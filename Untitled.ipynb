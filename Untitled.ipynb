{
 "cells": [
  {
   "cell_type": "code",
   "execution_count": 29,
   "metadata": {},
   "outputs": [],
   "source": [
    "import numpy as np\n",
    "import pandas as pd\n",
    "from numpy import log2 as log\n",
    "eps = np.finfo(float).eps\n",
    "t_data = pd.read_csv(\"./dataset/train.csv\")"
   ]
  },
  {
   "cell_type": "code",
   "execution_count": 30,
   "metadata": {},
   "outputs": [],
   "source": [
    "t_data = t_data.drop(['Name', 'Ticket', 'Cabin', 'PassengerId', 'Fare'], axis = 1)\n",
    "t_data = t_data.dropna()"
   ]
  },
  {
   "cell_type": "code",
   "execution_count": 31,
   "metadata": {},
   "outputs": [],
   "source": [
    "t_data['Age'] = t_data['Age'].interpolate() #fixing missing values of age"
   ]
  },
  {
   "cell_type": "code",
   "execution_count": 32,
   "metadata": {},
   "outputs": [
    {
     "name": "stdout",
     "output_type": "stream",
     "text": [
      "0.9735190023846809\n"
     ]
    }
   ],
   "source": [
    "#Entropy of the entire dataset\n",
    "entropy = 0\n",
    "values = t_data['Survived'].unique()\n",
    "for value in values:\n",
    "    p = t_data['Survived'].value_counts()[value]/len(t_data.Survived)\n",
    "    entropy = entropy + (-(p*log(p)))\n",
    "print(entropy)"
   ]
  },
  {
   "cell_type": "code",
   "execution_count": 33,
   "metadata": {},
   "outputs": [],
   "source": [
    "def attribute_entropy(col):\n",
    "    y = t_data['Survived'].unique()\n",
    "    x = t_data[col].unique()\n",
    "    entropy = 0\n",
    "    for i in x:\n",
    "        e = 0\n",
    "        for j in y:\n",
    "            num = len(t_data[col][t_data[col] == i][t_data['Survived'] == j])\n",
    "            den = len(t_data[col][t_data[col] == i])\n",
    "            p = num/(den+eps)\n",
    "            e = e + (-(p*log(p+eps)))\n",
    "        p2 = den/len(t_data)\n",
    "        entropy = entropy + (-(p2*e))\n",
    "    return abs(entropy)"
   ]
  },
  {
   "cell_type": "code",
   "execution_count": 34,
   "metadata": {},
   "outputs": [
    {
     "name": "stdout",
     "output_type": "stream",
     "text": [
      "0.846271645340514\n"
     ]
    }
   ],
   "source": [
    "print(attribute_entropy('Age'))"
   ]
  },
  {
   "cell_type": "code",
   "execution_count": 35,
   "metadata": {},
   "outputs": [
    {
     "data": {
      "text/plain": [
       "'Sex'"
      ]
     },
     "execution_count": 35,
     "metadata": {},
     "output_type": "execute_result"
    }
   ],
   "source": [
    "def find_max():\n",
    "    data = t_data.drop(['Survived'], axis = 1)\n",
    "    Entropy_att = []\n",
    "    IG = []\n",
    "    #print(data.keys())\n",
    "    for key in data.keys()[:-1]:\n",
    "        IG.append(entropy-attribute_entropy(key))\n",
    "    #print(IG)\n",
    "    return data.keys()[np.argmax(IG)]\n",
    "find_max()"
   ]
  },
  {
   "cell_type": "code",
   "execution_count": 39,
   "metadata": {},
   "outputs": [
    {
     "name": "stdout",
     "output_type": "stream",
     "text": [
      "['female' 'male']\n",
      "Survived     2\n",
      "Pclass       3\n",
      "Sex          1\n",
      "Age         62\n",
      "SibSp        6\n",
      "Parch        7\n",
      "Embarked     3\n",
      "dtype: int64\n",
      "Survived     2\n",
      "Pclass       3\n",
      "Sex          1\n",
      "Age         82\n",
      "SibSp        6\n",
      "Parch        6\n",
      "Embarked     3\n",
      "dtype: int64\n"
     ]
    }
   ],
   "source": [
    "def get_subtable(df, node,value):\n",
    "  return df[df[node] == value].reset_index(drop=True)\n",
    "\n",
    "\n",
    "def buildTree(): \n",
    "    \n",
    "    node = find_max()\n",
    "    \n",
    "    vals = np.unique(t_data[node])\n",
    "    print(vals)\n",
    "    for val in vals:\n",
    "        subtable = get_subtable(t_data, node, val)\n",
    "        #print((subtable.head()))\n",
    "        uniques = subtable.apply(lambda x: x.nunique())\n",
    "        print(uniques)\n",
    "\n",
    "buildTree()\n",
    "  "
   ]
  },
  {
   "cell_type": "code",
   "execution_count": null,
   "metadata": {},
   "outputs": [],
   "source": []
  }
 ],
 "metadata": {
  "kernelspec": {
   "display_name": "Python 3",
   "language": "python",
   "name": "python3"
  },
  "language_info": {
   "codemirror_mode": {
    "name": "ipython",
    "version": 3
   },
   "file_extension": ".py",
   "mimetype": "text/x-python",
   "name": "python",
   "nbconvert_exporter": "python",
   "pygments_lexer": "ipython3",
   "version": "3.7.4"
  }
 },
 "nbformat": 4,
 "nbformat_minor": 2
}

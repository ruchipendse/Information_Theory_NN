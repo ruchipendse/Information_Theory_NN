{
 "cells": [
  {
   "cell_type": "code",
   "execution_count": 1,
   "metadata": {},
   "outputs": [],
   "source": [
    "#Importing required libraries\n",
    "import pandas as pd\n",
    "import numpy as np\n",
    "from sklearn.datasets import load_iris\n",
    "from sklearn.tree import DecisionTreeClassifier\n",
    "from sklearn.model_selection import train_test_split\n",
    "eps = np.finfo(float).eps\n",
    "from numpy import log2 as log"
   ]
  },
  {
   "cell_type": "code",
   "execution_count": 2,
   "metadata": {},
   "outputs": [],
   "source": [
    "train = pd.read_csv(r\"C:\\Users\\Ruchi\\Documents\\titanic_train.csv\")\n",
    "test = pd.read_csv(r\"C:\\Users\\Ruchi\\Documents\\titanic_test.csv\")"
   ]
  },
  {
   "cell_type": "code",
   "execution_count": 3,
   "metadata": {},
   "outputs": [],
   "source": [
    "org_train = train.copy()\n",
    "org_test = test.copy()"
   ]
  },
  {
   "cell_type": "code",
   "execution_count": 4,
   "metadata": {},
   "outputs": [],
   "source": [
    "#Making a full dataset containing train and test data\n",
    "data = train.append(test, sort = True)"
   ]
  },
  {
   "cell_type": "code",
   "execution_count": 5,
   "metadata": {},
   "outputs": [
    {
     "data": {
      "text/html": [
       "<div>\n",
       "<style scoped>\n",
       "    .dataframe tbody tr th:only-of-type {\n",
       "        vertical-align: middle;\n",
       "    }\n",
       "\n",
       "    .dataframe tbody tr th {\n",
       "        vertical-align: top;\n",
       "    }\n",
       "\n",
       "    .dataframe thead th {\n",
       "        text-align: right;\n",
       "    }\n",
       "</style>\n",
       "<table border=\"1\" class=\"dataframe\">\n",
       "  <thead>\n",
       "    <tr style=\"text-align: right;\">\n",
       "      <th></th>\n",
       "      <th>age</th>\n",
       "      <th>boat</th>\n",
       "      <th>body</th>\n",
       "      <th>cabin</th>\n",
       "      <th>embarked</th>\n",
       "      <th>fare</th>\n",
       "      <th>home.dest</th>\n",
       "      <th>name</th>\n",
       "      <th>parch</th>\n",
       "      <th>passenger_id</th>\n",
       "      <th>pclass</th>\n",
       "      <th>sex</th>\n",
       "      <th>sibsp</th>\n",
       "      <th>survived</th>\n",
       "      <th>ticket</th>\n",
       "    </tr>\n",
       "  </thead>\n",
       "  <tbody>\n",
       "    <tr>\n",
       "      <th>0</th>\n",
       "      <td>NaN</td>\n",
       "      <td>13</td>\n",
       "      <td>NaN</td>\n",
       "      <td>NaN</td>\n",
       "      <td>Q</td>\n",
       "      <td>7.7333</td>\n",
       "      <td>NaN</td>\n",
       "      <td>Smyth, Miss. Julia</td>\n",
       "      <td>0</td>\n",
       "      <td>1216</td>\n",
       "      <td>3</td>\n",
       "      <td>female</td>\n",
       "      <td>0</td>\n",
       "      <td>1.0</td>\n",
       "      <td>335432</td>\n",
       "    </tr>\n",
       "    <tr>\n",
       "      <th>1</th>\n",
       "      <td>38.0</td>\n",
       "      <td>NaN</td>\n",
       "      <td>NaN</td>\n",
       "      <td>NaN</td>\n",
       "      <td>S</td>\n",
       "      <td>8.6625</td>\n",
       "      <td>Croatia</td>\n",
       "      <td>Cacic, Mr. Luka</td>\n",
       "      <td>0</td>\n",
       "      <td>699</td>\n",
       "      <td>3</td>\n",
       "      <td>male</td>\n",
       "      <td>0</td>\n",
       "      <td>0.0</td>\n",
       "      <td>315089</td>\n",
       "    </tr>\n",
       "    <tr>\n",
       "      <th>2</th>\n",
       "      <td>30.0</td>\n",
       "      <td>NaN</td>\n",
       "      <td>NaN</td>\n",
       "      <td>NaN</td>\n",
       "      <td>S</td>\n",
       "      <td>24.1500</td>\n",
       "      <td>NaN</td>\n",
       "      <td>Van Impe, Mrs. Jean Baptiste (Rosalie Paula Go...</td>\n",
       "      <td>1</td>\n",
       "      <td>1267</td>\n",
       "      <td>3</td>\n",
       "      <td>female</td>\n",
       "      <td>1</td>\n",
       "      <td>0.0</td>\n",
       "      <td>345773</td>\n",
       "    </tr>\n",
       "    <tr>\n",
       "      <th>3</th>\n",
       "      <td>54.0</td>\n",
       "      <td>4</td>\n",
       "      <td>NaN</td>\n",
       "      <td>NaN</td>\n",
       "      <td>S</td>\n",
       "      <td>23.0000</td>\n",
       "      <td>Cornwall / Akron, OH</td>\n",
       "      <td>Hocking, Mrs. Elizabeth (Eliza Needs)</td>\n",
       "      <td>3</td>\n",
       "      <td>449</td>\n",
       "      <td>2</td>\n",
       "      <td>female</td>\n",
       "      <td>1</td>\n",
       "      <td>1.0</td>\n",
       "      <td>29105</td>\n",
       "    </tr>\n",
       "    <tr>\n",
       "      <th>4</th>\n",
       "      <td>40.0</td>\n",
       "      <td>NaN</td>\n",
       "      <td>NaN</td>\n",
       "      <td>NaN</td>\n",
       "      <td>S</td>\n",
       "      <td>13.0000</td>\n",
       "      <td>Barre, Co Washington, VT</td>\n",
       "      <td>Veal, Mr. James</td>\n",
       "      <td>0</td>\n",
       "      <td>576</td>\n",
       "      <td>2</td>\n",
       "      <td>male</td>\n",
       "      <td>0</td>\n",
       "      <td>0.0</td>\n",
       "      <td>28221</td>\n",
       "    </tr>\n",
       "  </tbody>\n",
       "</table>\n",
       "</div>"
      ],
      "text/plain": [
       "    age boat  body cabin embarked     fare                 home.dest  \\\n",
       "0   NaN   13   NaN   NaN        Q   7.7333                       NaN   \n",
       "1  38.0  NaN   NaN   NaN        S   8.6625                   Croatia   \n",
       "2  30.0  NaN   NaN   NaN        S  24.1500                       NaN   \n",
       "3  54.0    4   NaN   NaN        S  23.0000      Cornwall / Akron, OH   \n",
       "4  40.0  NaN   NaN   NaN        S  13.0000  Barre, Co Washington, VT   \n",
       "\n",
       "                                                name  parch  passenger_id  \\\n",
       "0                                 Smyth, Miss. Julia      0          1216   \n",
       "1                                    Cacic, Mr. Luka      0           699   \n",
       "2  Van Impe, Mrs. Jean Baptiste (Rosalie Paula Go...      1          1267   \n",
       "3              Hocking, Mrs. Elizabeth (Eliza Needs)      3           449   \n",
       "4                                    Veal, Mr. James      0           576   \n",
       "\n",
       "   pclass     sex  sibsp  survived  ticket  \n",
       "0       3  female      0       1.0  335432  \n",
       "1       3    male      0       0.0  315089  \n",
       "2       3  female      1       0.0  345773  \n",
       "3       2  female      1       1.0   29105  \n",
       "4       2    male      0       0.0   28221  "
      ]
     },
     "execution_count": 5,
     "metadata": {},
     "output_type": "execute_result"
    }
   ],
   "source": [
    "data.head(5)"
   ]
  },
  {
   "cell_type": "code",
   "execution_count": 6,
   "metadata": {},
   "outputs": [],
   "source": [
    "#Cleaning\n",
    "data.dropna()\n",
    "data['sex'] =  data['sex'].map( {'female': 0, 'male': 1} ).astype(int)\n",
    "#Grouping ages\n",
    "data.loc[data['age'] <= 16, 'age'] = 0\n",
    "data.loc[(data['age'] > 16) & (data['age'] < 50), 'age'] = 1\n",
    "data.loc[data['age'] >= 50, 'age'] = 2 "
   ]
  },
  {
   "cell_type": "markdown",
   "metadata": {},
   "source": [
    "## How it's mapped:\n",
    "F : 0; M: 1\n",
    "Young : 0; Adult: 1; Old: 2"
   ]
  },
  {
   "cell_type": "code",
   "execution_count": 7,
   "metadata": {},
   "outputs": [],
   "source": [
    "def entropy(value_ratios):\n",
    "    e = 0\n",
    "    for value in value_ratios:\n",
    "        e += -(value*log(value))\n",
    "    return e"
   ]
  },
  {
   "cell_type": "code",
   "execution_count": 8,
   "metadata": {},
   "outputs": [
    {
     "data": {
      "text/plain": [
       "'Giving erronous value\\ndef wt_avg_e(dict_obj):\\n    wt_e = 0\\n    for i in dict_obj:\\n        wt_e = -(i*log(dict_obj[i]))\\n    print (i, dict_obj[i])\\n    return wt_e\\n\\n\\nwt_age_e = wt_avg_e(wt_age_dict)\\nprint(wt_age_e)\\n    '"
      ]
     },
     "execution_count": 8,
     "metadata": {},
     "output_type": "execute_result"
    }
   ],
   "source": [
    "'''Giving erronous value\n",
    "def wt_avg_e(dict_obj):\n",
    "    wt_e = 0\n",
    "    for i in dict_obj:\n",
    "        wt_e = -(i*log(dict_obj[i]))\n",
    "    print (i, dict_obj[i])\n",
    "    return wt_e\n",
    "\n",
    "\n",
    "wt_age_e = wt_avg_e(wt_age_dict)\n",
    "print(wt_age_e)\n",
    "    ''' "
   ]
  },
  {
   "cell_type": "code",
   "execution_count": 9,
   "metadata": {},
   "outputs": [],
   "source": [
    "def info_gain(parent_e, wt_avg_e):\n",
    "    info_gain = 0\n",
    "    info_gain = parent_e - wt_avg_e\n",
    "    return info_gain"
   ]
  },
  {
   "cell_type": "markdown",
   "metadata": {},
   "source": [
    "## Some universal variables used here:\n"
   ]
  },
  {
   "cell_type": "code",
   "execution_count": 10,
   "metadata": {},
   "outputs": [],
   "source": [
    "# Number of passengers:\n",
    "total_pass = data['passenger_id'].count() #1309\n",
    "\n",
    "\n",
    "#Number of passengers by AGE\n",
    "num_young = len(data.loc[data['age'] == 0])\n",
    "num_adult = len(data.loc[data['age'] == 1])\n",
    "num_old = len(data.loc[data['age'] == 2])\n",
    "\n",
    "#Number of passengers by SEX\n",
    "num_male = len(data['sex'] == 1)\n",
    "num_female = len(data['sex'] == 0)\n",
    "\n",
    "num_young_f = len(data.loc[(data['age'] == 0) & (data['sex'] == 0)])\n",
    "num_young_m = len(data.loc[(data['age'] == 0) & (data['sex'] == 1)])\n",
    "\n",
    "num_adult_f = len(data.loc[(data['age'] == 1) & (data['sex'] == 0)])\n",
    "num_adult_m = len(data.loc[(data['age'] == 1) & (data['sex'] == 1)])\n",
    "\n",
    "num_old_f = len(data.loc[(data['age'] == 2) & (data['sex'] == 0)])\n",
    "num_old_m = len(data.loc[(data['age'] == 2) & (data['sex'] == 1)])\n",
    "\n",
    "\n",
    "# Total passengers based on PORT OF EMBARKATION\n",
    "total_q = len(data.loc[data['embarked'] == 'Q'])\n",
    "total_s = len(data.loc[data['embarked'] == 'S'])\n",
    "total_c = len(data.loc[data['embarked'] == 'C'])\n",
    "\n",
    "# Port - Q\n",
    "num_q_first = len(data.loc[(data['embarked'] == 'Q') & (data['pclass'] == 1)])\n",
    "num_q_second = len(data.loc[(data['embarked'] == 'Q') & (data['pclass'] == 2)])\n",
    "num_q_third = len(data.loc[(data['embarked'] == 'Q') & (data['pclass'] == 3)])\n",
    "\n",
    "\n",
    "#Port - S\n",
    "\n",
    "num_s_first = len(data.loc[(data['embarked'] == 'S') & (data['pclass'] == 1)])\n",
    "num_s_second = len(data.loc[(data['embarked'] == 'S') & (data['pclass'] == 2)])\n",
    "num_s_third = len(data.loc[(data['embarked'] == 'S') & (data['pclass'] == 3)])\n",
    "\n",
    "#Port - C\n",
    "\n",
    "num_c_first = len(data.loc[(data['embarked'] == 'C') & (data['pclass'] == 1)])\n",
    "num_c_second = len(data.loc[(data['embarked'] == 'C') & (data['pclass'] == 2)])\n",
    "num_c_third = len(data.loc[(data['embarked'] == 'C') & (data['pclass'] == 3)])\n"
   ]
  },
  {
   "cell_type": "markdown",
   "metadata": {},
   "source": [
    "## Tree 1: Age-Sex-Survival\n",
    "\n",
    "Age - Y,A,O - M,F\n",
    "Y(m,f)\n",
    "A(m,f)\n",
    "O(m,f)\n",
    "\n",
    "y_m / tot_y\n",
    "a_f / tot_a\n"
   ]
  },
  {
   "cell_type": "code",
   "execution_count": 11,
   "metadata": {},
   "outputs": [
    {
     "name": "stdout",
     "output_type": "stream",
     "text": [
      "0.2591223932930248\n"
     ]
    }
   ],
   "source": [
    "age_ratios = data['age'].value_counts(normalize=True)\n",
    "age_e = entropy(age_ratios)\n",
    "\n",
    "\n",
    "\n",
    "#Young sex-wise ratios\n",
    "young_f_ratio = num_young_f/num_young\n",
    "young_m_ratio = num_young_m/num_young\n",
    "\n",
    "#Adult sex-wise ratios\n",
    "\n",
    "\n",
    "adult_f_ratio = num_adult_f/num_adult\n",
    "adult_m_ratio = num_adult_m/num_adult\n",
    "\n",
    "#Old sex-wise ratios\n",
    "\n",
    "\n",
    "old_f_ratio = num_old_f/num_old\n",
    "old_m_ratio = num_old_m/num_old\n",
    "                                \n",
    "#Making a series object\n",
    "young_ratio = pd.Series([young_f_ratio, young_m_ratio])\n",
    "adult_ratio = pd.Series([adult_f_ratio, adult_m_ratio])\n",
    "old_ratio = pd.Series([old_f_ratio, old_m_ratio])\n",
    "\n",
    "#Getting conditional entropies\n",
    "young_cond_e = entropy(young_ratio)  #entropies\n",
    "adult_cond_e = entropy(adult_ratio)\n",
    "old_cond_e = entropy(old_ratio)\n",
    "\n",
    "#Weighted avg. entropy\n",
    "ratio_y = num_young/total_pass\n",
    "ratio_a = num_adult/total_pass\n",
    "ratio_o = num_old/total_pass\n",
    "\n",
    "'''ratio_age_subgroups = pd.Series([ratio_y, ratio_a, ratio_o])\n",
    "wt_age_dict = {ratio_y : young_cond_e, ratio_a : adult_cond_e, ratio_o : old_cond_e}\n",
    "wt_age_data = {'Subgroup Ratio': [ratio_y, ratio_a, ratio_o], 'Cond E':[young_cond_e,adult_cond_e,old_cond_e]}\n",
    "wt_age_df = pd.DataFrame(wt_age_data)\n",
    "wt_age_df\n",
    "wt_age_series = pd.Series(wt_age_data)\n",
    "wt_age_series\n",
    "'''\n",
    "wt_avg_age_e = (ratio_y*young_cond_e) + (ratio_a*adult_cond_e) + (ratio_o*old_cond_e)\n",
    "info_gain_age = info_gain(age_e, wt_avg_age_e)\n",
    "print(info_gain_age)\n"
   ]
  },
  {
   "cell_type": "markdown",
   "metadata": {},
   "source": [
    "## Tree 2: Sex-Age-Survival"
   ]
  },
  {
   "cell_type": "code",
   "execution_count": 12,
   "metadata": {},
   "outputs": [
    {
     "name": "stdout",
     "output_type": "stream",
     "text": [
      "-0.8867576845634857\n"
     ]
    }
   ],
   "source": [
    "sex_ratios = data['sex'].value_counts(normalize=True)\n",
    "sex_e = entropy(sex_ratios)\n",
    "\n",
    "#Male - Y, A, O\n",
    "m_young_ratio = num_young_m/num_male\n",
    "m_adult_ratio = num_adult_m/num_male\n",
    "m_old_ratio = num_old_m/num_male\n",
    "\n",
    "#Female - Y, A, O\n",
    "f_young_ratio = num_young_f/num_female\n",
    "f_adult_ratio = num_adult_f/num_female\n",
    "f_old_ratio = num_old_f/num_female\n",
    "\n",
    "#Making series objects\n",
    "m_age_ratio = pd.Series([m_young_ratio, m_adult_ratio, m_old_ratio])\n",
    "f_age_ratio = pd.Series([f_young_ratio, f_adult_ratio, f_old_ratio])\n",
    "\n",
    "#Conditional entropies\n",
    "m_cond_e = entropy(m_age_ratio)\n",
    "f_cond_e = entropy(f_age_ratio)\n",
    "\n",
    "#Weighted avg entropy\n",
    "ratio_m = num_male / total_pass\n",
    "ratio_f = num_female / total_pass\n",
    "\n",
    "wt_avg_sex_e = (ratio_m*m_cond_e) + (ratio_f*f_cond_e)\n",
    "info_gain_sex = info_gain(sex_e, wt_avg_sex_e)\n",
    "print(info_gain_sex)"
   ]
  },
  {
   "cell_type": "markdown",
   "metadata": {},
   "source": [
    "## Tree 3: Port-Class-Sex-Age\n",
    "In getting the conditional entropies of Class | Port (eg. 1st class passenger embarked from port Q),\n",
    "we're faced witht the question of how to get the conditional entropies for multiple attributes which are split from \n",
    "other parent attributes in a larger tree.\n",
    "The question comes to play especially because the wt.avg. entropies that we'll need to take in order to get the information\n",
    "gain for the tree.\n",
    "\n",
    "Conditional entropy : the conditional entropy quantifies the amount of information needed to describe the outcome of a random variable given that the value of another random variable is known. \n",
    "\n",
    "That is: measure of how much entropy a random variable X has remaining if we have already learned the value of a second random variable Y. \n",
    "\n",
    "Here, we can try the following:\n",
    "\n",
    "- conditional entropy of Class | Port \n"
   ]
  },
  {
   "cell_type": "code",
   "execution_count": 13,
   "metadata": {},
   "outputs": [],
   "source": [
    "port_ratios = data['embarked'].value_counts(normalize=True)\n",
    "port_e = entropy(port_ratios)\n",
    "\n",
    "# Ratios on Q\n",
    "q_first_ratio = num_q_first / total_q\n",
    "q_second_ratio = num_q_second / total_q\n",
    "q_third_ratio = num_q_third / total_q\n",
    "\n",
    "# Ratios on S\n",
    "s_first_ratio = num_s_first / total_s\n",
    "s_second_ratio = num_s_second / total_s\n",
    "s_third_ratio = num_s_third / total_s\n",
    "\n",
    "\n",
    "# Ratios on C\n",
    "c_first_ratio = num_c_first / total_c\n",
    "c_second_ratio = num_c_second / total_c\n",
    "c_third_ratio = num_c_third / total_c\n",
    "\n",
    "# Making series objects\n",
    "q_class_ratio = pd.Series([q_first_ratio, q_second_ratio, q_third_ratio])\n",
    "s_class_ratio = pd.Series([s_first_ratio, s_second_ratio, s_third_ratio])\n",
    "c_class_ratio = pd.Series([c_first_ratio, c_second_ratio, c_third_ratio])\n",
    "\n",
    "#Conditional Entropies Port-Class\n",
    "q_class_cond_e = entropy(q_class_ratio)\n",
    "s_class_cond_e = entropy(s_class_ratio)\n",
    "c_class_cond_e = entropy(c_class_ratio)\n",
    "\n"
   ]
  },
  {
   "cell_type": "code",
   "execution_count": 14,
   "metadata": {},
   "outputs": [
    {
     "data": {
      "text/plain": [
       "\" num_q_first_f_y = len(data.loc[(data['embarked'] == 'Q') & (data['pclass'] == 1)])\\nnum_q_first_m_y = \\nnum_q_first_f_a = \\nnum_q_first_m_a = \\n\\nnum_adult_f = len(data.loc[(data['age'] == 1) & (data['sex'] == 0)])\\n\""
      ]
     },
     "execution_count": 14,
     "metadata": {},
     "output_type": "execute_result"
    }
   ],
   "source": [
    "''' num_q_first_f_y = len(data.loc[(data['embarked'] == 'Q') & (data['pclass'] == 1)])\n",
    "num_q_first_m_y = \n",
    "num_q_first_f_a = \n",
    "num_q_first_m_a = \n",
    "\n",
    "num_adult_f = len(data.loc[(data['age'] == 1) & (data['sex'] == 0)])\n",
    "'''"
   ]
  },
  {
   "cell_type": "markdown",
   "metadata": {},
   "source": [
    "## Tree 4: Class - Sex - Survival"
   ]
  },
  {
   "cell_type": "code",
   "execution_count": 15,
   "metadata": {},
   "outputs": [
    {
     "name": "stdout",
     "output_type": "stream",
     "text": [
      "0.5232460652146391\n"
     ]
    }
   ],
   "source": [
    "class_ratios = data['pclass'].value_counts(normalize=True)\n",
    "class_e = entropy(class_ratios)\n",
    "\n",
    "# First Class\n",
    "num_first_m = len(data.loc[(data['pclass'] == 1) & (data['sex'] == 1)])\n",
    "num_first_f = len(data.loc[(data['pclass'] == 1) & (data['sex'] == 0)])\n",
    "num_first = len(data.loc[(data['pclass'] == 1)])\n",
    "\n",
    "ratio_first_m = num_first_m / num_first\n",
    "ratio_first_f = num_first_f / num_first\n",
    "\n",
    "# Second Class\n",
    "num_sec_m = len(data.loc[(data['pclass'] == 2) & (data['sex'] == 1)])\n",
    "num_sec_f = len(data.loc[(data['pclass'] == 2) & (data['sex'] == 0)])\n",
    "num_sec = len(data.loc[(data['pclass'] == 2)])\n",
    "\n",
    "ratio_sec_m = num_sec_m / num_sec\n",
    "ratio_sec_f = num_sec_f / num_sec\n",
    "\n",
    "# Third Class\n",
    "num_third_m = len(data.loc[(data['pclass'] == 3) & (data['sex'] == 1)])\n",
    "num_third_f = len(data.loc[(data['pclass'] == 3) & (data['sex'] == 0)])\n",
    "num_third = len(data.loc[(data['pclass'] == 3)])\n",
    "\n",
    "ratio_third_m = num_third_m / num_third\n",
    "ratio_third_f = num_third_f / num_third\n",
    "\n",
    "#Creating Series objects\n",
    "\n",
    "first_ratio = pd.Series([ratio_first_m, ratio_first_f])\n",
    "sec_ratio = pd.Series([ratio_sec_m, ratio_sec_f])\n",
    "third_ratio = pd.Series([ratio_third_m, ratio_third_f])\n",
    "\n",
    "first_cond_e = entropy(first_ratio)\n",
    "sec_cond_e = entropy(sec_ratio)\n",
    "third_cond_e = entropy(third_ratio)\n",
    "\n",
    "# Getting weighted avg\n",
    "ratio_first = num_first / total_pass\n",
    "ratio_sec = num_sec / total_pass\n",
    "ratio_third = num_third / total_pass\n",
    "\n",
    "wt_avg_class_e = (ratio_first*(first_cond_e))+(ratio_sec*(sec_cond_e))+(ratio_third*(third_cond_e))\n",
    "\n",
    "info_gain_class = info_gain(class_e, wt_avg_class_e)\n",
    "print(info_gain_class)\n"
   ]
  },
  {
   "cell_type": "markdown",
   "metadata": {},
   "source": [
    "## Tree 5: Port - Class - Sex - Survival\n",
    "Q,S,C - I, II, III - M,F\n",
    "first_male_q / num_q\n",
    "second_male_q / num_q\n",
    "third_male_q / num_q\n",
    "\n",
    "first_f_q / num_q\n",
    "sec_f_q/num_q\n",
    "third_f_q / num_q\n"
   ]
  },
  {
   "cell_type": "code",
   "execution_count": 19,
   "metadata": {},
   "outputs": [],
   "source": [
    "port_ratios = data['embarked'].value_counts(normalize=True)\n",
    "port_e = entropy(port_ratios)\n",
    "\n",
    "\n",
    "# Males - First Class - Port Q\n",
    "m_first_q =  len(data.loc[(data['embarked'] == 'Q') & (data['pclass'] == 1) & (data['sex'] == 1)])\n",
    "\n",
    "y_m_first_q = len(data.loc[(data['embarked'] == 'Q') & (data['age'] == 0) & (data['pclass'] == 1) & (data['sex'] == 1)]) \n",
    "a_m_first_q = len(data.loc[(data['embarked'] == 'Q') & (data['age'] == 1) & (data['pclass'] == 1) & (data['sex'] == 1)])\n",
    "o_m_first_q = len(data.loc[(data['embarked'] == 'Q') & (data['age'] == 2) & (data['pclass'] == 1) & (data['sex'] == 1)])\n",
    "\n",
    "ymfq = y_m_first_q / m_first_q\n",
    "amfq = a_m_first_q / m_first_q\n",
    "omfq = o_m_first_q / m_first_q\n",
    "\n",
    "# Males - Second Class - Port Q\n",
    "\n",
    "#Generating Series object\n",
    "m_first_q_ratio = pd.Series([ymfq, amfq, omfq])\n",
    "\n",
    "\n"
   ]
  },
  {
   "cell_type": "markdown",
   "metadata": {},
   "source": [
    "## Tree 6: Port - Sex - Survival"
   ]
  },
  {
   "cell_type": "code",
   "execution_count": 21,
   "metadata": {},
   "outputs": [
    {
     "name": "stdout",
     "output_type": "stream",
     "text": [
      "0.22526026173172997\n"
     ]
    }
   ],
   "source": [
    "port_ratios = data['embarked'].value_counts(normalize=True)\n",
    "port_e = entropy(port_ratios)\n",
    "\n",
    "'''# Total passengers based on PORT OF EMBARKATION\n",
    "total_q = len(data.loc[data['embarked'] == 'Q'])\n",
    "total_s = len(data.loc[data['embarked'] == 'S'])\n",
    "total_c = len(data.loc[data['embarked'] == 'C'])'''\n",
    "\n",
    "q_m = len(data.loc[(data['embarked'] == 'Q') & (data['sex'] == 1)])\n",
    "q_f = len(data.loc[(data['embarked'] == 'Q') & (data['sex'] == 0)])\n",
    "\n",
    "s_m = len(data.loc[(data['embarked'] == 'S') & (data['sex'] == 1)])\n",
    "s_f = len(data.loc[(data['embarked'] == 'S') & (data['sex'] == 0)])\n",
    "\n",
    "c_m = len(data.loc[(data['embarked'] == 'C') & (data['sex'] == 1)])\n",
    "c_f = len(data.loc[(data['embarked'] == 'C') & (data['sex'] == 0)])\n",
    "\n",
    "q_m_ratio = q_m / total_q\n",
    "q_f_ratio = q_f / total_q\n",
    "\n",
    "s_m_ratio = s_m / total_s\n",
    "s_f_ratio = s_f / total_s\n",
    "\n",
    "c_m_ratio = c_m / total_c\n",
    "c_f_ratio = c_f / total_c\n",
    "\n",
    "ratio_q = total_q / total_pass\n",
    "ratio_s = total_s / total_pass\n",
    "ratio_c = total_c / total_pass\n",
    "\n",
    "#Generating series \n",
    "q_port = pd.Series([q_m_ratio, q_f_ratio])\n",
    "s_port = pd.Series([s_m_ratio, s_f_ratio])\n",
    "c_port = pd.Series([c_m_ratio, c_f_ratio])\n",
    "\n",
    "#Getting conditional entropies\n",
    "q_cond_e = entropy(q_port)\n",
    "c_cond_e = entropy(c_port)\n",
    "s_cond_e = entropy(s_port)\n",
    "\n",
    "#Getting wt. avg\n",
    "wt_avg_port_sex_e = (q_cond_e*ratio_q) + (s_cond_e*ratio_s) + (c_cond_e*ratio_c)\n",
    "\n",
    "#information gain\n",
    "info_gain_port = info_gain(port_e, wt_avg_port_sex_e)\n",
    "print(info_gain_port)"
   ]
  },
  {
   "cell_type": "code",
   "execution_count": null,
   "metadata": {},
   "outputs": [],
   "source": []
  }
 ],
 "metadata": {
  "kernelspec": {
   "display_name": "Python 3",
   "language": "python",
   "name": "python3"
  },
  "language_info": {
   "codemirror_mode": {
    "name": "ipython",
    "version": 3
   },
   "file_extension": ".py",
   "mimetype": "text/x-python",
   "name": "python",
   "nbconvert_exporter": "python",
   "pygments_lexer": "ipython3",
   "version": "3.6.5"
  }
 },
 "nbformat": 4,
 "nbformat_minor": 2
}

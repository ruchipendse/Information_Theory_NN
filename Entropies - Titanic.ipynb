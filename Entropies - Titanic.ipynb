{
 "cells": [
  {
   "cell_type": "markdown",
   "metadata": {},
   "source": [
    "# What we're trying:\n",
    "The point of this notebook is to compare the entropy values for H(S|G|A) and for H(S|A)\n",
    "or H(S|A|G) and H(S|G), i.e. how entropy of (target | attr 1 | attr 2) compares to that of (target | attr 1).\n",
    "\n",
    "While taking the two-level conditional entropies, we followed the following algorithm:\n",
    "1. Entropies of all subclass of a particular branch taken individually\n",
    "2. Weighted avg entropies of all subclasses taken \n",
    "3. This weighted avg entropy becomes conditional entropy of Attr 2\n",
    "4. Weighted avg entropies of conditional entropies (from step 3) of the n partitions of Attr 2 are taken\n",
    "5. This is the conditional entropy of (Target | Attr 1 | Attr2)"
   ]
  },
  {
   "cell_type": "code",
   "execution_count": 43,
   "metadata": {},
   "outputs": [],
   "source": [
    "import numpy as np\n",
    "import pandas as pd\n",
    "eps = np.finfo(float).eps\n",
    "from numpy import log2 as log"
   ]
  },
  {
   "cell_type": "code",
   "execution_count": 44,
   "metadata": {},
   "outputs": [
    {
     "data": {
      "text/plain": [
       "0    549\n",
       "1    342\n",
       "Name: Survived, dtype: int64"
      ]
     },
     "execution_count": 44,
     "metadata": {},
     "output_type": "execute_result"
    }
   ],
   "source": [
    "train = pd.read_csv(\"./dataset/train.csv\")\n",
    "test = pd.read_csv(\"./dataset/test.csv\")\n",
    "train['Survived'].value_counts()"
   ]
  },
  {
   "cell_type": "code",
   "execution_count": 45,
   "metadata": {},
   "outputs": [],
   "source": [
    "train.dropna(axis=0, inplace = True)"
   ]
  },
  {
   "cell_type": "code",
   "execution_count": 46,
   "metadata": {},
   "outputs": [],
   "source": [
    "train.drop(['Cabin','Name','PassengerId','SibSp'],axis = 1, inplace=True)"
   ]
  },
  {
   "cell_type": "code",
   "execution_count": 47,
   "metadata": {},
   "outputs": [],
   "source": [
    "dummies = []\n",
    "cols = ['Pclass', 'Sex', 'Embarked']\n",
    "for col in cols:\n",
    "    dummies.append(pd.get_dummies(train[col]))\n",
    "\n",
    "titanic_dummies = pd.concat(dummies, axis=1)"
   ]
  },
  {
   "cell_type": "code",
   "execution_count": 48,
   "metadata": {},
   "outputs": [],
   "source": [
    "train = pd.concat((train,titanic_dummies), axis=1)"
   ]
  },
  {
   "cell_type": "code",
   "execution_count": 49,
   "metadata": {},
   "outputs": [],
   "source": [
    "train = train.drop(['Pclass', 'Sex', 'Embarked'], axis=1)"
   ]
  },
  {
   "cell_type": "code",
   "execution_count": 50,
   "metadata": {},
   "outputs": [],
   "source": [
    "train.loc[(train['Age'] <= 16), 'Age'] = 0\n",
    "train.loc[(train['Age'] > 16) & (train['Age'] <= 50), 'Age'] = 1\n",
    "train.loc[(train['Age'] > 50), 'Age'] = 2"
   ]
  },
  {
   "cell_type": "code",
   "execution_count": 51,
   "metadata": {},
   "outputs": [
    {
     "data": {
      "text/plain": [
       "1    123\n",
       "0     60\n",
       "Name: Survived, dtype: int64"
      ]
     },
     "execution_count": 51,
     "metadata": {},
     "output_type": "execute_result"
    }
   ],
   "source": [
    "train['Survived'].value_counts()"
   ]
  },
  {
   "cell_type": "code",
   "execution_count": 52,
   "metadata": {},
   "outputs": [],
   "source": [
    "def entropy(value_ratios):\n",
    "    e = 0\n",
    "    for value in value_ratios:\n",
    "        e += -(value*log(value))\n",
    "    return e"
   ]
  },
  {
   "cell_type": "markdown",
   "metadata": {},
   "source": [
    "# H(S)\n",
    "H(S) = 0.9127341558073343\n",
    "\n",
    "# H(S|A)\n",
    "H(S|A) = 0.8822297022038299\n",
    "## IG (S|A)\n",
    "ig_s_age = 0.0305044536035044\n",
    "\n",
    "# H(S|G)\n",
    "H(S|G) = 0.6847741450401293\n",
    "## IG (S|G)\n",
    "ig_s_sex = 0.22796001076720496\n",
    "\n",
    "# H(S|G|A) and H(S|A|G)\n",
    "Turn out to be equal \n",
    "0.6157247613147919"
   ]
  },
  {
   "cell_type": "code",
   "execution_count": 53,
   "metadata": {},
   "outputs": [
    {
     "name": "stdout",
     "output_type": "stream",
     "text": [
      "0.9127341558073343\n"
     ]
    }
   ],
   "source": [
    "sur_e = entropy(train['Survived'].value_counts(normalize=True))\n",
    "print(sur_e)"
   ]
  },
  {
   "cell_type": "markdown",
   "metadata": {},
   "source": [
    "## S|A"
   ]
  },
  {
   "cell_type": "code",
   "execution_count": 54,
   "metadata": {},
   "outputs": [],
   "source": [
    "num_y = len(train.loc[train['Age'] == 0])\n",
    "num_a = len(train.loc[train['Age'] == 1])\n",
    "num_o = len(train.loc[train['Age'] == 2])\n",
    "total = len(train['Survived'])"
   ]
  },
  {
   "cell_type": "code",
   "execution_count": 55,
   "metadata": {},
   "outputs": [
    {
     "name": "stdout",
     "output_type": "stream",
     "text": [
      "2\n",
      "14\n",
      "16\n",
      "0.5435644431995964\n"
     ]
    }
   ],
   "source": [
    "y_dead = len(train.loc[(train['Age'] == 0) & (train['Survived'] == 0)])\n",
    "y_alive = len(train.loc[(train['Age'] == 0) & (train['Survived'] == 1)])\n",
    "print(y_dead)\n",
    "print(y_alive)\n",
    "print(num_y)\n",
    "s_y = pd.Series([y_dead/num_y, y_alive/num_y])\n",
    "s_y_e = entropy(s_y)\n",
    "print(s_y_e)"
   ]
  },
  {
   "cell_type": "code",
   "execution_count": 56,
   "metadata": {},
   "outputs": [
    {
     "name": "stdout",
     "output_type": "stream",
     "text": [
      "42\n",
      "93\n",
      "135\n",
      "0.8944518845341283\n"
     ]
    }
   ],
   "source": [
    "a_dead = len(train.loc[(train['Age'] == 1) & (train['Survived'] == 0)])\n",
    "a_alive = len(train.loc[(train['Age'] == 1) & (train['Survived'] == 1)])\n",
    "print(a_dead)\n",
    "print(a_alive)\n",
    "print(num_a)\n",
    "\n",
    "s_a = pd.Series([a_dead/num_a, a_alive/num_a])\n",
    "s_a_e = entropy(s_a)\n",
    "print(s_a_e)"
   ]
  },
  {
   "cell_type": "code",
   "execution_count": 57,
   "metadata": {},
   "outputs": [
    {
     "name": "stdout",
     "output_type": "stream",
     "text": [
      "16\n",
      "16\n",
      "32\n",
      "1.0\n"
     ]
    }
   ],
   "source": [
    "o_dead = len(train.loc[(train['Age'] == 2) & (train['Survived'] == 0)])\n",
    "o_alive = len(train.loc[(train['Age'] == 2) & (train['Survived'] == 1)])\n",
    "print(o_dead)\n",
    "print(o_alive)\n",
    "print(num_o)\n",
    "s_o = pd.Series([o_dead/num_o, o_alive/num_o])\n",
    "s_o_e = entropy(s_o)\n",
    "print(s_o_e)"
   ]
  },
  {
   "cell_type": "code",
   "execution_count": 58,
   "metadata": {},
   "outputs": [
    {
     "name": "stdout",
     "output_type": "stream",
     "text": [
      "0.8822297022038299\n",
      "0.0305044536035044\n"
     ]
    }
   ],
   "source": [
    "wt_s_age = (num_y/total)*s_y_e + (num_a/total)*s_a_e + (num_o/total)*s_o_e\n",
    "print(wt_s_age)\n",
    "\n",
    "ig_s_age = sur_e - wt_s_age\n",
    "print(ig_s_age)"
   ]
  },
  {
   "cell_type": "markdown",
   "metadata": {},
   "source": [
    "## S|G"
   ]
  },
  {
   "cell_type": "code",
   "execution_count": 59,
   "metadata": {},
   "outputs": [
    {
     "name": "stdout",
     "output_type": "stream",
     "text": [
      "95\n",
      "88\n"
     ]
    }
   ],
   "source": [
    "num_m = len(train.loc[train['male'] == 1])\n",
    "num_f = len(train.loc[train['female'] == 1])\n",
    "\n",
    "print(num_m)\n",
    "print(num_f)"
   ]
  },
  {
   "cell_type": "code",
   "execution_count": 60,
   "metadata": {},
   "outputs": [
    {
     "name": "stdout",
     "output_type": "stream",
     "text": [
      "54\n",
      "41\n",
      "0.9864497419502243\n",
      "6\n",
      "82\n",
      "0.3591016256485496\n"
     ]
    }
   ],
   "source": [
    "male_d = len(train.loc[(train['male'] == 1) & (train['Survived'] == 0)])\n",
    "print(male_d)\n",
    "male_a = len(train.loc[(train['male'] == 1) & (train['Survived'] == 1)])\n",
    "print(male_a)\n",
    "male_e = entropy([male_d/num_m, male_a/num_m])\n",
    "print(male_e)\n",
    "\n",
    "female_d = len(train.loc[(train['female'] == 1) & (train['Survived'] == 0)])\n",
    "print(female_d)\n",
    "female_a = len(train.loc[(train['female'] == 1) & (train['Survived'] == 1)])\n",
    "print(female_a)\n",
    "female_e = entropy([female_d/num_f, female_a/num_f])\n",
    "print(female_e)\n"
   ]
  },
  {
   "cell_type": "code",
   "execution_count": 61,
   "metadata": {},
   "outputs": [
    {
     "name": "stdout",
     "output_type": "stream",
     "text": [
      "0.6847741450401293\n"
     ]
    }
   ],
   "source": [
    "wt_sex = (num_m/total)*male_e + (num_f/total)*female_e\n",
    "print(wt_sex)"
   ]
  },
  {
   "cell_type": "code",
   "execution_count": 62,
   "metadata": {},
   "outputs": [
    {
     "name": "stdout",
     "output_type": "stream",
     "text": [
      "0.22796001076720496\n"
     ]
    }
   ],
   "source": [
    "ig_s_sex = sur_e - wt_sex\n",
    "print(ig_s_sex)"
   ]
  },
  {
   "cell_type": "markdown",
   "metadata": {},
   "source": [
    "## S|G|A"
   ]
  },
  {
   "cell_type": "markdown",
   "metadata": {},
   "source": [
    "## S| G = M | A"
   ]
  },
  {
   "cell_type": "code",
   "execution_count": 63,
   "metadata": {},
   "outputs": [
    {
     "name": "stdout",
     "output_type": "stream",
     "text": [
      "7\n",
      "68\n",
      "20\n"
     ]
    }
   ],
   "source": [
    "num_my = len(train.loc[(train['male'] == 1) & (train['Age'] == 0)])\n",
    "num_ma = len(train.loc[(train['male'] == 1) & (train['Age'] == 1)])\n",
    "num_mo = len(train.loc[(train['male'] == 1) & (train['Age'] == 2)])\n",
    "\n",
    "print(num_my)\n",
    "print(num_ma)\n",
    "print(num_mo)"
   ]
  },
  {
   "cell_type": "code",
   "execution_count": 64,
   "metadata": {},
   "outputs": [
    {
     "name": "stdout",
     "output_type": "stream",
     "text": [
      "0\n",
      "7\n",
      "0.0\n"
     ]
    }
   ],
   "source": [
    "my_dead = len(train.loc[(train['male'] == 1) & (train['Age'] == 0) & (train['Survived'] == 0)])\n",
    "print(my_dead)\n",
    "my_alive = len(train.loc[(train['male'] == 1) & (train['Age'] == 0) & (train['Survived'] == 1)])\n",
    "print(my_alive)\n",
    "\n",
    "my_e = entropy([my_alive/num_my])\n",
    "print(my_e)\n",
    "\n"
   ]
  },
  {
   "cell_type": "code",
   "execution_count": 65,
   "metadata": {},
   "outputs": [
    {
     "name": "stdout",
     "output_type": "stream",
     "text": [
      "39\n",
      "29\n",
      "0.9843432030984678\n"
     ]
    }
   ],
   "source": [
    "ma_dead = len(train.loc[(train['male'] == 1) & (train['Age'] == 1) & (train['Survived'] == 0)])\n",
    "print(ma_dead)\n",
    "ma_alive = len(train.loc[(train['male'] == 1) & (train['Age'] == 1) & (train['Survived'] == 1)])\n",
    "print(ma_alive)\n",
    "\n",
    "ma_e = entropy([ma_alive/num_ma, ma_dead/num_ma])\n",
    "print(ma_e)\n",
    "\n"
   ]
  },
  {
   "cell_type": "code",
   "execution_count": 66,
   "metadata": {},
   "outputs": [
    {
     "name": "stdout",
     "output_type": "stream",
     "text": [
      "15\n",
      "5\n",
      "0.8112781244591328\n"
     ]
    }
   ],
   "source": [
    "mo_dead = len(train.loc[(train['male'] == 1) & (train['Age'] == 2) & (train['Survived'] == 0)])\n",
    "print(mo_dead)\n",
    "mo_alive = len(train.loc[(train['male'] == 1) & (train['Age'] == 2) & (train['Survived'] == 1)])\n",
    "print(mo_alive)\n",
    "\n",
    "mo_e = entropy([mo_alive/num_mo, mo_dead/num_mo])\n",
    "print(mo_e)\n",
    "\n"
   ]
  },
  {
   "cell_type": "code",
   "execution_count": 67,
   "metadata": {},
   "outputs": [],
   "source": [
    "#m_age_e = entropy([my_alive/num_m, ma_alive/num_m, ma_dead/num_m, mo_alive/num_m, mo_dead/num_m])\n",
    "#print(m_age_e)"
   ]
  },
  {
   "cell_type": "code",
   "execution_count": 68,
   "metadata": {},
   "outputs": [],
   "source": [
    "#mo_e + my_e + ma_e"
   ]
  },
  {
   "cell_type": "code",
   "execution_count": 69,
   "metadata": {},
   "outputs": [
    {
     "name": "stdout",
     "output_type": "stream",
     "text": [
      "0.8753778978934575\n"
     ]
    }
   ],
   "source": [
    "wt_s_m_age = (num_my/num_m)*my_e + (num_ma/num_m)*ma_e + (num_mo/num_m)*mo_e\n",
    "print(wt_s_m_age)"
   ]
  },
  {
   "cell_type": "markdown",
   "metadata": {},
   "source": [
    "## S | G = F | A"
   ]
  },
  {
   "cell_type": "code",
   "execution_count": 70,
   "metadata": {},
   "outputs": [
    {
     "name": "stdout",
     "output_type": "stream",
     "text": [
      "9\n",
      "67\n",
      "12\n"
     ]
    }
   ],
   "source": [
    "num_fy = len(train.loc[(train['female'] == 1) & (train['Age'] == 0)])\n",
    "num_fa = len(train.loc[(train['female'] == 1) & (train['Age'] == 1)])\n",
    "num_fo = len(train.loc[(train['female'] == 1) & (train['Age'] == 2)])\n",
    "\n",
    "print(num_fy)\n",
    "print(num_fa)\n",
    "print(num_fo)"
   ]
  },
  {
   "cell_type": "code",
   "execution_count": 71,
   "metadata": {},
   "outputs": [
    {
     "name": "stdout",
     "output_type": "stream",
     "text": [
      "2\n",
      "7\n",
      "0.7642045065086203\n"
     ]
    }
   ],
   "source": [
    "fy_dead = len(train.loc[(train['female'] == 1) & (train['Age'] == 0) & (train['Survived'] == 0)])\n",
    "print(fy_dead)\n",
    "fy_alive = len(train.loc[(train['female'] == 1) & (train['Age'] == 0) & (train['Survived'] == 1)])\n",
    "print(fy_alive)\n",
    "\n",
    "fy_e = entropy([fy_alive/num_fy, fy_dead/num_fy])\n",
    "print(fy_e)\n",
    "\n"
   ]
  },
  {
   "cell_type": "code",
   "execution_count": 72,
   "metadata": {},
   "outputs": [
    {
     "name": "stdout",
     "output_type": "stream",
     "text": [
      "3\n",
      "64\n",
      "0.26377743669413856\n"
     ]
    }
   ],
   "source": [
    "fa_dead = len(train.loc[(train['female'] == 1) & (train['Age'] == 1) & (train['Survived'] == 0)])\n",
    "print(fa_dead)\n",
    "fa_alive = len(train.loc[(train['female'] == 1) & (train['Age'] == 1) & (train['Survived'] == 1)])\n",
    "print(fa_alive)\n",
    "\n",
    "fa_e = entropy([fa_alive/num_fa, fa_dead/num_fa])\n",
    "print(fa_e)\n",
    "\n"
   ]
  },
  {
   "cell_type": "code",
   "execution_count": 73,
   "metadata": {},
   "outputs": [
    {
     "name": "stdout",
     "output_type": "stream",
     "text": [
      "1\n",
      "11\n",
      "0.41381685030363374\n"
     ]
    }
   ],
   "source": [
    "fo_dead = len(train.loc[(train['female'] == 1) & (train['Age'] == 2) & (train['Survived'] == 0)])\n",
    "print(fo_dead)\n",
    "fo_alive = len(train.loc[(train['female'] == 1) & (train['Age'] == 2) & (train['Survived'] == 1)])\n",
    "print(fo_alive)\n",
    "\n",
    "fo_e = entropy([fo_alive/num_fo, fo_dead/num_fo])\n",
    "print(fo_e)\n",
    "\n"
   ]
  },
  {
   "cell_type": "code",
   "execution_count": 74,
   "metadata": {},
   "outputs": [
    {
     "name": "stdout",
     "output_type": "stream",
     "text": [
      "0.3354173979628235\n"
     ]
    }
   ],
   "source": [
    "wt_s_f_age = (num_fy/num_f)*fy_e + (num_fa/num_f)*fa_e + (num_fo/num_f)*fo_e\n",
    "print(wt_s_f_age)"
   ]
  },
  {
   "cell_type": "code",
   "execution_count": 75,
   "metadata": {},
   "outputs": [
    {
     "name": "stdout",
     "output_type": "stream",
     "text": [
      "0.615724761314792\n"
     ]
    }
   ],
   "source": [
    "wt_s_g_age = (num_m/total)*wt_s_m_age + (num_f/total)*wt_s_f_age\n",
    "print(wt_s_g_age)"
   ]
  },
  {
   "cell_type": "markdown",
   "metadata": {},
   "source": [
    "## S | A | G\n",
    "\n",
    "## S | A = Y | G = M,F"
   ]
  },
  {
   "cell_type": "code",
   "execution_count": 76,
   "metadata": {},
   "outputs": [
    {
     "name": "stdout",
     "output_type": "stream",
     "text": [
      "7\n",
      "9\n",
      "16\n",
      "0.4298650349110989\n"
     ]
    }
   ],
   "source": [
    "print(num_my)\n",
    "print(num_fy)\n",
    "print(num_y)\n",
    "\n",
    "wt_y_g = (num_my/num_y)*my_e + (num_fy/num_y)*fy_e\n",
    "print(wt_y_g)"
   ]
  },
  {
   "cell_type": "code",
   "execution_count": 77,
   "metadata": {},
   "outputs": [
    {
     "name": "stdout",
     "output_type": "stream",
     "text": [
      "0.6267290819940969\n"
     ]
    }
   ],
   "source": [
    "wt_a_g = (num_ma/num_a)*ma_e + (num_fa/num_a)*fa_e\n",
    "print(wt_a_g)"
   ]
  },
  {
   "cell_type": "code",
   "execution_count": 78,
   "metadata": {},
   "outputs": [
    {
     "name": "stdout",
     "output_type": "stream",
     "text": [
      "0.6622301466508207\n"
     ]
    }
   ],
   "source": [
    "wt_o_g = (num_mo/num_o)*mo_e + (num_fo/num_o)*fo_e\n",
    "print(wt_o_g)"
   ]
  },
  {
   "cell_type": "code",
   "execution_count": 79,
   "metadata": {},
   "outputs": [
    {
     "name": "stdout",
     "output_type": "stream",
     "text": [
      "0.6157247613147919\n"
     ]
    }
   ],
   "source": [
    "wt_age_g = (num_y/total)*wt_y_g + (num_a/total)*wt_a_g + (num_o/total)*wt_o_g\n",
    "print(wt_age_g)"
   ]
  },
  {
   "cell_type": "code",
   "execution_count": null,
   "metadata": {},
   "outputs": [],
   "source": []
  }
 ],
 "metadata": {
  "kernelspec": {
   "display_name": "Python 3",
   "language": "python",
   "name": "python3"
  },
  "language_info": {
   "codemirror_mode": {
    "name": "ipython",
    "version": 3
   },
   "file_extension": ".py",
   "mimetype": "text/x-python",
   "name": "python",
   "nbconvert_exporter": "python",
   "pygments_lexer": "ipython3",
   "version": "3.7.4"
  }
 },
 "nbformat": 4,
 "nbformat_minor": 4
}

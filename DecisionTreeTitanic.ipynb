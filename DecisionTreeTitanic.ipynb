{
 "cells": [
  {
   "cell_type": "code",
   "execution_count": 1,
   "metadata": {},
   "outputs": [],
   "source": [
    "import pandas as pd\n",
    "import numpy as np\n",
    "eps = np.finfo(float).eps\n",
    "from numpy import log2 as log"
   ]
  },
  {
   "cell_type": "code",
   "execution_count": 2,
   "metadata": {},
   "outputs": [],
   "source": [
    "#entropy_node = 0"
   ]
  },
  {
   "cell_type": "code",
   "execution_count": 3,
   "metadata": {},
   "outputs": [],
   "source": [
    "#def entropy(fraction):\n",
    "#    entropy_node += -fraction*np.log2(fraction)"
   ]
  },
  {
   "cell_type": "code",
   "execution_count": 4,
   "metadata": {},
   "outputs": [],
   "source": [
    "train = pd.read_csv(r\"C:\\Users\\Ruchi\\Documents\\titanic_train.csv\")\n",
    "test = pd.read_csv(r\"C:\\Users\\Ruchi\\Documents\\titanic_test.csv\")"
   ]
  },
  {
   "cell_type": "code",
   "execution_count": 5,
   "metadata": {},
   "outputs": [],
   "source": [
    "org_train = train.copy()\n",
    "org_test = test.copy()"
   ]
  },
  {
   "cell_type": "code",
   "execution_count": 6,
   "metadata": {},
   "outputs": [],
   "source": [
    "data = train.append(test, sort = True)"
   ]
  },
  {
   "cell_type": "code",
   "execution_count": 7,
   "metadata": {},
   "outputs": [
    {
     "name": "stdout",
     "output_type": "stream",
     "text": [
      "      age boat   body    cabin embarked      fare  \\\n",
      "0     NaN   13    NaN      NaN        Q    7.7333   \n",
      "1    38.0  NaN    NaN      NaN        S    8.6625   \n",
      "2    30.0  NaN    NaN      NaN        S   24.1500   \n",
      "3    54.0    4    NaN      NaN        S   23.0000   \n",
      "4    40.0  NaN    NaN      NaN        S   13.0000   \n",
      "5    28.0  NaN  173.0      NaN        S   22.5250   \n",
      "6    19.0  NaN    NaN      NaN        S    0.0000   \n",
      "7    30.0   10    NaN      NaN        S   13.0000   \n",
      "8    22.0    C    NaN      NaN        S    7.7750   \n",
      "9    21.0  NaN    NaN      NaN        S    9.8250   \n",
      "10   27.0  NaN    NaN      C82        C  211.5000   \n",
      "11   60.0    8    NaN      D15        C   76.2917   \n",
      "12   56.0    7    NaN      C50        C   83.1583   \n",
      "13   20.0    4    NaN      NaN        S   23.0000   \n",
      "14   16.0  NaN  190.0      NaN        S   20.2500   \n",
      "15   48.0  NaN    NaN      NaN        S    7.8542   \n",
      "16   40.0  NaN    NaN      NaN        S   16.0000   \n",
      "17    NaN   16    NaN      NaN        Q   23.2500   \n",
      "18   22.0    6    NaN      E33        S   55.0000   \n",
      "19   32.0    A    NaN      NaN        S    7.7750   \n",
      "20   27.0   15    NaN      NaN        S    8.6625   \n",
      "21    NaN  NaN    NaN      NaN        Q    8.4583   \n",
      "22   24.0    9    NaN      NaN        S   65.0000   \n",
      "23   25.0  NaN    NaN      NaN        S    7.8958   \n",
      "24   18.0    C    NaN      NaN        S    8.0500   \n",
      "25   27.0  NaN    NaN      NaN        S   26.0000   \n",
      "26   35.0  NaN    NaN      NaN        Q    7.7500   \n",
      "27   27.0  NaN    NaN      NaN        S   21.0000   \n",
      "28    NaN  NaN    NaN      NaN        C    7.2292   \n",
      "29   42.0  NaN   38.0      NaN        S   52.0000   \n",
      "..    ...  ...    ...      ...      ...       ...   \n",
      "429  21.0   12    NaN      NaN        S   21.0000   \n",
      "430  24.0   15    NaN      NaN        Q    7.7500   \n",
      "431  24.0    4    NaN      NaN        S   14.5000   \n",
      "432  41.0  NaN    NaN      NaN        S   20.2125   \n",
      "433  59.0  NaN    NaN      NaN        S    7.2500   \n",
      "434  39.0    8    NaN     C105        C  108.9000   \n",
      "435  22.0  NaN    NaN      NaN        S    7.5208   \n",
      "436   8.0   14    NaN      NaN        S   26.2500   \n",
      "437  18.0  NaN    NaN      NaN        S    7.7750   \n",
      "438  33.0    8    NaN      NaN        S  151.5500   \n",
      "439  26.0  NaN    NaN      NaN        S    7.9250   \n",
      "440   NaN  NaN    NaN      NaN        S    7.2500   \n",
      "441  30.0  NaN    NaN      NaN        C    7.2292   \n",
      "442  45.0    7    NaN  D10 D12        C   63.3583   \n",
      "443  63.0   10    NaN       D7        S   77.9583   \n",
      "444  58.0    8    NaN     C103        S   26.5500   \n",
      "445   9.0  NaN    NaN      NaN        S   27.9000   \n",
      "446  28.0  NaN    NaN      NaN        S   26.0000   \n",
      "447   NaN  NaN    NaN     C128        S   35.0000   \n",
      "448  33.0  NaN    NaN      NaN        S   12.2750   \n",
      "449  27.0    3    NaN      B71        S   52.0000   \n",
      "450  24.0    7    NaN      B45        S   82.2667   \n",
      "451   NaN  NaN    NaN      NaN        S    8.0500   \n",
      "452  21.0  NaN    NaN      NaN        S    6.4958   \n",
      "453  22.0    8    NaN       C2        S   66.6000   \n",
      "454   NaN  NaN    NaN      NaN        S    7.8958   \n",
      "455  23.0  NaN    NaN      NaN        S   13.0000   \n",
      "456   NaN    4    NaN      NaN        C  110.8833   \n",
      "457  16.0  NaN    NaN      NaN        S   10.5000   \n",
      "458  10.0  NaN    NaN      NaN        S   24.1500   \n",
      "\n",
      "                                   home.dest  \\\n",
      "0                                        NaN   \n",
      "1                                    Croatia   \n",
      "2                                        NaN   \n",
      "3                       Cornwall / Akron, OH   \n",
      "4                   Barre, Co Washington, VT   \n",
      "5                                        NaN   \n",
      "6                                        NaN   \n",
      "7                   Finland / Washington, DC   \n",
      "8                                        NaN   \n",
      "9                                        NaN   \n",
      "10                           Elkins Park, PA   \n",
      "11                          Philadelphia, PA   \n",
      "12                 Mt Airy, Philadelphia, PA   \n",
      "13                      Cornwall / Akron, OH   \n",
      "14                       East Providence, RI   \n",
      "15                                       NaN   \n",
      "16         Weston-Super-Mare / Moose Jaw, SK   \n",
      "17                                       NaN   \n",
      "18          St Leonards-on-Sea, England Ohio   \n",
      "19                                       NaN   \n",
      "20                                       NaN   \n",
      "21                                       NaN   \n",
      "22              Somerset / Bernardsville, NJ   \n",
      "23                                       NaN   \n",
      "24                     London Skanteales, NY   \n",
      "25                          Hornsey, England   \n",
      "26                                       NaN   \n",
      "27                         Plymouth, England   \n",
      "28                                       NaN   \n",
      "29                              New York, NY   \n",
      "..                                       ...   \n",
      "429                        Ilfracombe, Devon   \n",
      "430                                      NaN   \n",
      "431                              Detroit, MI   \n",
      "432                                      NaN   \n",
      "433                              Merrill, WI   \n",
      "434                                      NaN   \n",
      "435                                      NaN   \n",
      "436  Bishopstoke, Hants / Fayette Valley, ID   \n",
      "437                 Tofta, Sweden Joliet, IL   \n",
      "438                                      NaN   \n",
      "439                                      NaN   \n",
      "440                                      NaN   \n",
      "441                                      NaN   \n",
      "442                             New York, NY   \n",
      "443                               Hudson, NY   \n",
      "444        Birkdale, England Cleveland, Ohio   \n",
      "445                                      NaN   \n",
      "446                                  England   \n",
      "447                          London, England   \n",
      "448                         Philadelphia, PA   \n",
      "449                             Montreal, PQ   \n",
      "450                          Minneapolis, MN   \n",
      "451                                      NaN   \n",
      "452                                      NaN   \n",
      "453                       Isleworth, England   \n",
      "454                                      NaN   \n",
      "455                    England / Detroit, MI   \n",
      "456                                      NaN   \n",
      "457                      Halesworth, England   \n",
      "458                                      NaN   \n",
      "\n",
      "                                                  name  parch  passenger_id  \\\n",
      "0                                   Smyth, Miss. Julia      0          1216   \n",
      "1                                      Cacic, Mr. Luka      0           699   \n",
      "2    Van Impe, Mrs. Jean Baptiste (Rosalie Paula Go...      1          1267   \n",
      "3                Hocking, Mrs. Elizabeth (Eliza Needs)      3           449   \n",
      "4                                      Veal, Mr. James      0           576   \n",
      "5                             Olsen, Mr. Henry Margido      0          1083   \n",
      "6                      Johnson, Mr. William Cahoone Jr      0           898   \n",
      "7                                Sinkkonen, Miss. Anna      0           560   \n",
      "8                                   Ohman, Miss. Velin      0          1079   \n",
      "9                             Jussila, Miss. Mari Aina      0           908   \n",
      "10                           Widener, Mr. Harry Elkins      2           313   \n",
      "11     Bucknell, Mrs. William Robert (Emma Eliza Ward)      0            43   \n",
      "12       Potter, Mrs. Thomas Jr (Lily Alexenia Wilson)      1           233   \n",
      "13                       Hocking, Miss. Ellen \"Nellie\"      1           446   \n",
      "14                         Abbott, Mr. Rossmore Edward      1           602   \n",
      "15                             Jensen, Mr. Niels Peder      0           884   \n",
      "16                           Maybery, Mr. Frank Hubert      0           497   \n",
      "17                                  McCoy, Mr. Bernard      0          1003   \n",
      "18                         Bowerman, Miss. Elsie Edith      1            36   \n",
      "19                           Olsson, Mr. Oscar Wilhelm      0          1088   \n",
      "20                                   Lulic, Mr. Nikola      0           978   \n",
      "21                                    Moran, Mr. James      0          1030   \n",
      "22                                  Herman, Miss. Kate      2           438   \n",
      "23                                  Delalic, Mr. Redjo      0           766   \n",
      "24                          Badman, Miss. Emily Louisa      0           661   \n",
      "25                         Sharp, Mr. Percival James R      0           556   \n",
      "26                            McGowan, Miss. Katherine      0          1008   \n",
      "27   Turpin, Mrs. William John Robert (Dorothy Ann ...      0           575   \n",
      "28                                 Doharr, Mr. Tannous      0           775   \n",
      "29                      Holverson, Mr. Alexander Oskar      0           162   \n",
      "..                                                 ...    ...           ...   \n",
      "429               Phillips, Miss. Alice Frances Louisa      1           533   \n",
      "430                          Mulvihill, Miss. Bertha E      0          1040   \n",
      "431                    Hamalainen, Mrs. William (Anna)      2           428   \n",
      "432           Rosblom, Mrs. Viktor (Helena Wilhelmina)      2          1158   \n",
      "433                                  Coxon, Mr. Daniel      0           736   \n",
      "434                       Oliva y Ocana, Dona. Fermina      0           218   \n",
      "435                          Karlsson, Mr. Nils August      0           915   \n",
      "436                   Collyer, Miss. Marjorie \"Lottie\"      2           377   \n",
      "437                     Edvardsson, Mr. Gustaf Hjalmar      0           786   \n",
      "438                               Daniels, Miss. Sarah      0            88   \n",
      "439                             Heikkinen, Miss. Laina      0           860   \n",
      "440                             Wiseman, Mr. Phillippe      0          1297   \n",
      "441                       Ibrahim Shawah, Mr. Yousseff      0           875   \n",
      "442       Greenfield, Mrs. Leo David (Blanche Strouse)      1           141   \n",
      "443                  Andrews, Miss. Kornelia Theodosia      0             6   \n",
      "444                           Bonnell, Miss. Elizabeth      0            33   \n",
      "445                                 Skoog, Miss. Mabel      2          1208   \n",
      "446                         Beauchamp, Mr. Henry James      0           338   \n",
      "447             Williams-Lambert, Mr. Fletcher Fellows      0           318   \n",
      "448                             Hunt, Mr. George Henry      0           457   \n",
      "449               Davidson, Mrs. Thornton (Orian Hays)      2            90   \n",
      "450                         Snyder, Mr. John Pillsbury      0           271   \n",
      "451                                   Miles, Mr. Frank      0          1018   \n",
      "452                            Wiklund, Mr. Karl Johan      0          1289   \n",
      "453                  Pears, Mrs. Thomas (Edith Wearne)      0           227   \n",
      "454                                 Sdycoff, Mr. Todor      0          1194   \n",
      "455                       Eitemiller, Mr. George Floyd      0           403   \n",
      "456                            Fleming, Miss. Margaret      0           108   \n",
      "457                           Mudd, Mr. Thomas Charles      0           510   \n",
      "458                          Van Impe, Miss. Catharina      2          1265   \n",
      "\n",
      "     pclass     sex  sibsp  survived            ticket  \n",
      "0         3  female      0       1.0            335432  \n",
      "1         3    male      0       0.0            315089  \n",
      "2         3  female      1       0.0            345773  \n",
      "3         2  female      1       1.0             29105  \n",
      "4         2    male      0       0.0             28221  \n",
      "5         3    male      0       0.0            C 4001  \n",
      "6         3    male      0       0.0              LINE  \n",
      "7         2  female      0       1.0            250648  \n",
      "8         3  female      0       1.0            347085  \n",
      "9         3  female      1       0.0              4137  \n",
      "10        1    male      0       0.0            113503  \n",
      "11        1  female      0       1.0             11813  \n",
      "12        1  female      0       1.0             11767  \n",
      "13        2  female      2       1.0             29105  \n",
      "14        3    male      1       0.0         C.A. 2673  \n",
      "15        3    male      0       0.0            350047  \n",
      "16        2    male      0       0.0            239059  \n",
      "17        3    male      2       1.0            367226  \n",
      "18        1  female      0       1.0            113505  \n",
      "19        3    male      0       1.0            347079  \n",
      "20        3    male      0       1.0            315098  \n",
      "21        3    male      0       0.0            330877  \n",
      "22        2  female      1       1.0            220845  \n",
      "23        3    male      0       0.0            349250  \n",
      "24        3  female      0       1.0         A/4 31416  \n",
      "25        2    male      0       0.0            244358  \n",
      "26        3  female      0       0.0              9232  \n",
      "27        2  female      1       0.0             11668  \n",
      "28        3    male      0       0.0              2686  \n",
      "29        1    male      1       0.0            113789  \n",
      "..      ...     ...    ...       ...               ...  \n",
      "429       2  female      0       NaN       S.O./P.P. 2  \n",
      "430       3  female      0       NaN            382653  \n",
      "431       2  female      0       NaN            250649  \n",
      "432       3  female      0       NaN            370129  \n",
      "433       3    male      0       NaN            364500  \n",
      "434       1  female      0       NaN          PC 17758  \n",
      "435       3    male      0       NaN            350060  \n",
      "436       2  female      0       NaN        C.A. 31921  \n",
      "437       3    male      0       NaN            349912  \n",
      "438       1  female      0       NaN            113781  \n",
      "439       3  female      0       NaN  STON/O2. 3101282  \n",
      "440       3    male      0       NaN        A/4. 34244  \n",
      "441       3    male      0       NaN              2685  \n",
      "442       1  female      0       NaN          PC 17759  \n",
      "443       1  female      1       NaN             13502  \n",
      "444       1  female      0       NaN            113783  \n",
      "445       3  female      3       NaN            347088  \n",
      "446       2    male      0       NaN            244358  \n",
      "447       1    male      0       NaN            113510  \n",
      "448       2    male      0       NaN        SCO/W 1585  \n",
      "449       1  female      1       NaN        F.C. 12750  \n",
      "450       1    male      1       NaN             21228  \n",
      "451       3    male      0       NaN            359306  \n",
      "452       3    male      1       NaN           3101266  \n",
      "453       1  female      1       NaN            113776  \n",
      "454       3    male      0       NaN            349222  \n",
      "455       2    male      0       NaN             29751  \n",
      "456       1  female      0       NaN             17421  \n",
      "457       2    male      0       NaN       S.O./P.P. 3  \n",
      "458       3  female      0       NaN            345773  \n",
      "\n",
      "[1309 rows x 15 columns]\n"
     ]
    }
   ],
   "source": [
    "#data.info()\n",
    "total_pass = 1309\n",
    "print(data)"
   ]
  },
  {
   "cell_type": "code",
   "execution_count": 8,
   "metadata": {},
   "outputs": [],
   "source": [
    "# Clean NA data\n",
    "data.age.fillna(value = data.age.mean(), inplace = True)\n",
    "data.fare.fillna(value = data.fare.mean(), inplace = True)\n",
    "# Fill NA embarked values with the mode of embarked values\n",
    "data.embarked.fillna(value=(data.embarked.value_counts().idxmax()), inplace=True)\n",
    "data.survived.fillna(value=-1, inplace=True) \n",
    "data.boat.fillna(value = 0, inplace = True)\n",
    "data['sex'] =  data['sex'].map( {'female': 0, 'male': 1} ).astype(int)\n",
    "#Grouping ages\n",
    "data.loc[data['age'] <= 16, 'age'] = 0\n",
    "data.loc[(data['age'] > 16) & (data['age'] < 50), 'age'] = 1\n",
    "data.loc[data['age'] >= 50, 'age'] = 2 "
   ]
  },
  {
   "cell_type": "code",
   "execution_count": 9,
   "metadata": {},
   "outputs": [
    {
     "name": "stdout",
     "output_type": "stream",
     "text": [
      "     age boat   body    cabin embarked      fare  \\\n",
      "0    1.0   13    NaN      NaN        Q    7.7333   \n",
      "1    1.0    0    NaN      NaN        S    8.6625   \n",
      "2    1.0    0    NaN      NaN        S   24.1500   \n",
      "3    2.0    4    NaN      NaN        S   23.0000   \n",
      "4    1.0    0    NaN      NaN        S   13.0000   \n",
      "5    1.0    0  173.0      NaN        S   22.5250   \n",
      "6    1.0    0    NaN      NaN        S    0.0000   \n",
      "7    1.0   10    NaN      NaN        S   13.0000   \n",
      "8    1.0    C    NaN      NaN        S    7.7750   \n",
      "9    1.0    0    NaN      NaN        S    9.8250   \n",
      "10   1.0    0    NaN      C82        C  211.5000   \n",
      "11   2.0    8    NaN      D15        C   76.2917   \n",
      "12   2.0    7    NaN      C50        C   83.1583   \n",
      "13   1.0    4    NaN      NaN        S   23.0000   \n",
      "14   0.0    0  190.0      NaN        S   20.2500   \n",
      "15   1.0    0    NaN      NaN        S    7.8542   \n",
      "16   1.0    0    NaN      NaN        S   16.0000   \n",
      "17   1.0   16    NaN      NaN        Q   23.2500   \n",
      "18   1.0    6    NaN      E33        S   55.0000   \n",
      "19   1.0    A    NaN      NaN        S    7.7750   \n",
      "20   1.0   15    NaN      NaN        S    8.6625   \n",
      "21   1.0    0    NaN      NaN        Q    8.4583   \n",
      "22   1.0    9    NaN      NaN        S   65.0000   \n",
      "23   1.0    0    NaN      NaN        S    7.8958   \n",
      "24   1.0    C    NaN      NaN        S    8.0500   \n",
      "25   1.0    0    NaN      NaN        S   26.0000   \n",
      "26   1.0    0    NaN      NaN        Q    7.7500   \n",
      "27   1.0    0    NaN      NaN        S   21.0000   \n",
      "28   1.0    0    NaN      NaN        C    7.2292   \n",
      "29   1.0    0   38.0      NaN        S   52.0000   \n",
      "..   ...  ...    ...      ...      ...       ...   \n",
      "429  1.0   12    NaN      NaN        S   21.0000   \n",
      "430  1.0   15    NaN      NaN        Q    7.7500   \n",
      "431  1.0    4    NaN      NaN        S   14.5000   \n",
      "432  1.0    0    NaN      NaN        S   20.2125   \n",
      "433  2.0    0    NaN      NaN        S    7.2500   \n",
      "434  1.0    8    NaN     C105        C  108.9000   \n",
      "435  1.0    0    NaN      NaN        S    7.5208   \n",
      "436  0.0   14    NaN      NaN        S   26.2500   \n",
      "437  1.0    0    NaN      NaN        S    7.7750   \n",
      "438  1.0    8    NaN      NaN        S  151.5500   \n",
      "439  1.0    0    NaN      NaN        S    7.9250   \n",
      "440  1.0    0    NaN      NaN        S    7.2500   \n",
      "441  1.0    0    NaN      NaN        C    7.2292   \n",
      "442  1.0    7    NaN  D10 D12        C   63.3583   \n",
      "443  2.0   10    NaN       D7        S   77.9583   \n",
      "444  2.0    8    NaN     C103        S   26.5500   \n",
      "445  0.0    0    NaN      NaN        S   27.9000   \n",
      "446  1.0    0    NaN      NaN        S   26.0000   \n",
      "447  1.0    0    NaN     C128        S   35.0000   \n",
      "448  1.0    0    NaN      NaN        S   12.2750   \n",
      "449  1.0    3    NaN      B71        S   52.0000   \n",
      "450  1.0    7    NaN      B45        S   82.2667   \n",
      "451  1.0    0    NaN      NaN        S    8.0500   \n",
      "452  1.0    0    NaN      NaN        S    6.4958   \n",
      "453  1.0    8    NaN       C2        S   66.6000   \n",
      "454  1.0    0    NaN      NaN        S    7.8958   \n",
      "455  1.0    0    NaN      NaN        S   13.0000   \n",
      "456  1.0    4    NaN      NaN        C  110.8833   \n",
      "457  0.0    0    NaN      NaN        S   10.5000   \n",
      "458  0.0    0    NaN      NaN        S   24.1500   \n",
      "\n",
      "                                   home.dest  \\\n",
      "0                                        NaN   \n",
      "1                                    Croatia   \n",
      "2                                        NaN   \n",
      "3                       Cornwall / Akron, OH   \n",
      "4                   Barre, Co Washington, VT   \n",
      "5                                        NaN   \n",
      "6                                        NaN   \n",
      "7                   Finland / Washington, DC   \n",
      "8                                        NaN   \n",
      "9                                        NaN   \n",
      "10                           Elkins Park, PA   \n",
      "11                          Philadelphia, PA   \n",
      "12                 Mt Airy, Philadelphia, PA   \n",
      "13                      Cornwall / Akron, OH   \n",
      "14                       East Providence, RI   \n",
      "15                                       NaN   \n",
      "16         Weston-Super-Mare / Moose Jaw, SK   \n",
      "17                                       NaN   \n",
      "18          St Leonards-on-Sea, England Ohio   \n",
      "19                                       NaN   \n",
      "20                                       NaN   \n",
      "21                                       NaN   \n",
      "22              Somerset / Bernardsville, NJ   \n",
      "23                                       NaN   \n",
      "24                     London Skanteales, NY   \n",
      "25                          Hornsey, England   \n",
      "26                                       NaN   \n",
      "27                         Plymouth, England   \n",
      "28                                       NaN   \n",
      "29                              New York, NY   \n",
      "..                                       ...   \n",
      "429                        Ilfracombe, Devon   \n",
      "430                                      NaN   \n",
      "431                              Detroit, MI   \n",
      "432                                      NaN   \n",
      "433                              Merrill, WI   \n",
      "434                                      NaN   \n",
      "435                                      NaN   \n",
      "436  Bishopstoke, Hants / Fayette Valley, ID   \n",
      "437                 Tofta, Sweden Joliet, IL   \n",
      "438                                      NaN   \n",
      "439                                      NaN   \n",
      "440                                      NaN   \n",
      "441                                      NaN   \n",
      "442                             New York, NY   \n",
      "443                               Hudson, NY   \n",
      "444        Birkdale, England Cleveland, Ohio   \n",
      "445                                      NaN   \n",
      "446                                  England   \n",
      "447                          London, England   \n",
      "448                         Philadelphia, PA   \n",
      "449                             Montreal, PQ   \n",
      "450                          Minneapolis, MN   \n",
      "451                                      NaN   \n",
      "452                                      NaN   \n",
      "453                       Isleworth, England   \n",
      "454                                      NaN   \n",
      "455                    England / Detroit, MI   \n",
      "456                                      NaN   \n",
      "457                      Halesworth, England   \n",
      "458                                      NaN   \n",
      "\n",
      "                                                  name  parch  passenger_id  \\\n",
      "0                                   Smyth, Miss. Julia      0          1216   \n",
      "1                                      Cacic, Mr. Luka      0           699   \n",
      "2    Van Impe, Mrs. Jean Baptiste (Rosalie Paula Go...      1          1267   \n",
      "3                Hocking, Mrs. Elizabeth (Eliza Needs)      3           449   \n",
      "4                                      Veal, Mr. James      0           576   \n",
      "5                             Olsen, Mr. Henry Margido      0          1083   \n",
      "6                      Johnson, Mr. William Cahoone Jr      0           898   \n",
      "7                                Sinkkonen, Miss. Anna      0           560   \n",
      "8                                   Ohman, Miss. Velin      0          1079   \n",
      "9                             Jussila, Miss. Mari Aina      0           908   \n",
      "10                           Widener, Mr. Harry Elkins      2           313   \n",
      "11     Bucknell, Mrs. William Robert (Emma Eliza Ward)      0            43   \n",
      "12       Potter, Mrs. Thomas Jr (Lily Alexenia Wilson)      1           233   \n",
      "13                       Hocking, Miss. Ellen \"Nellie\"      1           446   \n",
      "14                         Abbott, Mr. Rossmore Edward      1           602   \n",
      "15                             Jensen, Mr. Niels Peder      0           884   \n",
      "16                           Maybery, Mr. Frank Hubert      0           497   \n",
      "17                                  McCoy, Mr. Bernard      0          1003   \n",
      "18                         Bowerman, Miss. Elsie Edith      1            36   \n",
      "19                           Olsson, Mr. Oscar Wilhelm      0          1088   \n",
      "20                                   Lulic, Mr. Nikola      0           978   \n",
      "21                                    Moran, Mr. James      0          1030   \n",
      "22                                  Herman, Miss. Kate      2           438   \n",
      "23                                  Delalic, Mr. Redjo      0           766   \n",
      "24                          Badman, Miss. Emily Louisa      0           661   \n",
      "25                         Sharp, Mr. Percival James R      0           556   \n",
      "26                            McGowan, Miss. Katherine      0          1008   \n",
      "27   Turpin, Mrs. William John Robert (Dorothy Ann ...      0           575   \n",
      "28                                 Doharr, Mr. Tannous      0           775   \n",
      "29                      Holverson, Mr. Alexander Oskar      0           162   \n",
      "..                                                 ...    ...           ...   \n",
      "429               Phillips, Miss. Alice Frances Louisa      1           533   \n",
      "430                          Mulvihill, Miss. Bertha E      0          1040   \n",
      "431                    Hamalainen, Mrs. William (Anna)      2           428   \n",
      "432           Rosblom, Mrs. Viktor (Helena Wilhelmina)      2          1158   \n",
      "433                                  Coxon, Mr. Daniel      0           736   \n",
      "434                       Oliva y Ocana, Dona. Fermina      0           218   \n",
      "435                          Karlsson, Mr. Nils August      0           915   \n",
      "436                   Collyer, Miss. Marjorie \"Lottie\"      2           377   \n",
      "437                     Edvardsson, Mr. Gustaf Hjalmar      0           786   \n",
      "438                               Daniels, Miss. Sarah      0            88   \n",
      "439                             Heikkinen, Miss. Laina      0           860   \n",
      "440                             Wiseman, Mr. Phillippe      0          1297   \n",
      "441                       Ibrahim Shawah, Mr. Yousseff      0           875   \n",
      "442       Greenfield, Mrs. Leo David (Blanche Strouse)      1           141   \n",
      "443                  Andrews, Miss. Kornelia Theodosia      0             6   \n",
      "444                           Bonnell, Miss. Elizabeth      0            33   \n",
      "445                                 Skoog, Miss. Mabel      2          1208   \n",
      "446                         Beauchamp, Mr. Henry James      0           338   \n",
      "447             Williams-Lambert, Mr. Fletcher Fellows      0           318   \n",
      "448                             Hunt, Mr. George Henry      0           457   \n",
      "449               Davidson, Mrs. Thornton (Orian Hays)      2            90   \n",
      "450                         Snyder, Mr. John Pillsbury      0           271   \n",
      "451                                   Miles, Mr. Frank      0          1018   \n",
      "452                            Wiklund, Mr. Karl Johan      0          1289   \n",
      "453                  Pears, Mrs. Thomas (Edith Wearne)      0           227   \n",
      "454                                 Sdycoff, Mr. Todor      0          1194   \n",
      "455                       Eitemiller, Mr. George Floyd      0           403   \n",
      "456                            Fleming, Miss. Margaret      0           108   \n",
      "457                           Mudd, Mr. Thomas Charles      0           510   \n",
      "458                          Van Impe, Miss. Catharina      2          1265   \n",
      "\n",
      "     pclass  sex  sibsp  survived            ticket  \n",
      "0         3    0      0       1.0            335432  \n",
      "1         3    1      0       0.0            315089  \n",
      "2         3    0      1       0.0            345773  \n",
      "3         2    0      1       1.0             29105  \n",
      "4         2    1      0       0.0             28221  \n",
      "5         3    1      0       0.0            C 4001  \n",
      "6         3    1      0       0.0              LINE  \n",
      "7         2    0      0       1.0            250648  \n",
      "8         3    0      0       1.0            347085  \n",
      "9         3    0      1       0.0              4137  \n",
      "10        1    1      0       0.0            113503  \n",
      "11        1    0      0       1.0             11813  \n",
      "12        1    0      0       1.0             11767  \n",
      "13        2    0      2       1.0             29105  \n",
      "14        3    1      1       0.0         C.A. 2673  \n",
      "15        3    1      0       0.0            350047  \n",
      "16        2    1      0       0.0            239059  \n",
      "17        3    1      2       1.0            367226  \n",
      "18        1    0      0       1.0            113505  \n",
      "19        3    1      0       1.0            347079  \n",
      "20        3    1      0       1.0            315098  \n",
      "21        3    1      0       0.0            330877  \n",
      "22        2    0      1       1.0            220845  \n",
      "23        3    1      0       0.0            349250  \n",
      "24        3    0      0       1.0         A/4 31416  \n",
      "25        2    1      0       0.0            244358  \n",
      "26        3    0      0       0.0              9232  \n",
      "27        2    0      1       0.0             11668  \n",
      "28        3    1      0       0.0              2686  \n",
      "29        1    1      1       0.0            113789  \n",
      "..      ...  ...    ...       ...               ...  \n",
      "429       2    0      0      -1.0       S.O./P.P. 2  \n",
      "430       3    0      0      -1.0            382653  \n",
      "431       2    0      0      -1.0            250649  \n",
      "432       3    0      0      -1.0            370129  \n",
      "433       3    1      0      -1.0            364500  \n",
      "434       1    0      0      -1.0          PC 17758  \n",
      "435       3    1      0      -1.0            350060  \n",
      "436       2    0      0      -1.0        C.A. 31921  \n",
      "437       3    1      0      -1.0            349912  \n",
      "438       1    0      0      -1.0            113781  \n",
      "439       3    0      0      -1.0  STON/O2. 3101282  \n",
      "440       3    1      0      -1.0        A/4. 34244  \n",
      "441       3    1      0      -1.0              2685  \n",
      "442       1    0      0      -1.0          PC 17759  \n",
      "443       1    0      1      -1.0             13502  \n",
      "444       1    0      0      -1.0            113783  \n",
      "445       3    0      3      -1.0            347088  \n",
      "446       2    1      0      -1.0            244358  \n",
      "447       1    1      0      -1.0            113510  \n",
      "448       2    1      0      -1.0        SCO/W 1585  \n",
      "449       1    0      1      -1.0        F.C. 12750  \n",
      "450       1    1      1      -1.0             21228  \n",
      "451       3    1      0      -1.0            359306  \n",
      "452       3    1      1      -1.0           3101266  \n",
      "453       1    0      1      -1.0            113776  \n",
      "454       3    1      0      -1.0            349222  \n",
      "455       2    1      0      -1.0             29751  \n",
      "456       1    0      0      -1.0             17421  \n",
      "457       2    1      0      -1.0       S.O./P.P. 3  \n",
      "458       3    0      0      -1.0            345773  \n",
      "\n",
      "[1309 rows x 15 columns]\n"
     ]
    }
   ],
   "source": [
    "print(data)"
   ]
  },
  {
   "cell_type": "code",
   "execution_count": 10,
   "metadata": {},
   "outputs": [],
   "source": [
    "#data.drop('name', axis = 1)\n",
    "#data = data.drop('sibsp', axis = 1)\n",
    "data = data.drop(['name', 'sibsp', 'ticket', 'cabin', 'body','home.dest'], axis = 1)"
   ]
  },
  {
   "cell_type": "code",
   "execution_count": 11,
   "metadata": {},
   "outputs": [
    {
     "data": {
      "text/html": [
       "<div>\n",
       "<style scoped>\n",
       "    .dataframe tbody tr th:only-of-type {\n",
       "        vertical-align: middle;\n",
       "    }\n",
       "\n",
       "    .dataframe tbody tr th {\n",
       "        vertical-align: top;\n",
       "    }\n",
       "\n",
       "    .dataframe thead th {\n",
       "        text-align: right;\n",
       "    }\n",
       "</style>\n",
       "<table border=\"1\" class=\"dataframe\">\n",
       "  <thead>\n",
       "    <tr style=\"text-align: right;\">\n",
       "      <th></th>\n",
       "      <th>age</th>\n",
       "      <th>boat</th>\n",
       "      <th>embarked</th>\n",
       "      <th>fare</th>\n",
       "      <th>parch</th>\n",
       "      <th>passenger_id</th>\n",
       "      <th>pclass</th>\n",
       "      <th>sex</th>\n",
       "      <th>survived</th>\n",
       "    </tr>\n",
       "  </thead>\n",
       "  <tbody>\n",
       "    <tr>\n",
       "      <th>0</th>\n",
       "      <td>1.0</td>\n",
       "      <td>13</td>\n",
       "      <td>Q</td>\n",
       "      <td>7.7333</td>\n",
       "      <td>0</td>\n",
       "      <td>1216</td>\n",
       "      <td>3</td>\n",
       "      <td>0</td>\n",
       "      <td>1.0</td>\n",
       "    </tr>\n",
       "    <tr>\n",
       "      <th>1</th>\n",
       "      <td>1.0</td>\n",
       "      <td>0</td>\n",
       "      <td>S</td>\n",
       "      <td>8.6625</td>\n",
       "      <td>0</td>\n",
       "      <td>699</td>\n",
       "      <td>3</td>\n",
       "      <td>1</td>\n",
       "      <td>0.0</td>\n",
       "    </tr>\n",
       "    <tr>\n",
       "      <th>2</th>\n",
       "      <td>1.0</td>\n",
       "      <td>0</td>\n",
       "      <td>S</td>\n",
       "      <td>24.1500</td>\n",
       "      <td>1</td>\n",
       "      <td>1267</td>\n",
       "      <td>3</td>\n",
       "      <td>0</td>\n",
       "      <td>0.0</td>\n",
       "    </tr>\n",
       "    <tr>\n",
       "      <th>3</th>\n",
       "      <td>2.0</td>\n",
       "      <td>4</td>\n",
       "      <td>S</td>\n",
       "      <td>23.0000</td>\n",
       "      <td>3</td>\n",
       "      <td>449</td>\n",
       "      <td>2</td>\n",
       "      <td>0</td>\n",
       "      <td>1.0</td>\n",
       "    </tr>\n",
       "    <tr>\n",
       "      <th>4</th>\n",
       "      <td>1.0</td>\n",
       "      <td>0</td>\n",
       "      <td>S</td>\n",
       "      <td>13.0000</td>\n",
       "      <td>0</td>\n",
       "      <td>576</td>\n",
       "      <td>2</td>\n",
       "      <td>1</td>\n",
       "      <td>0.0</td>\n",
       "    </tr>\n",
       "  </tbody>\n",
       "</table>\n",
       "</div>"
      ],
      "text/plain": [
       "   age boat embarked     fare  parch  passenger_id  pclass  sex  survived\n",
       "0  1.0   13        Q   7.7333      0          1216       3    0       1.0\n",
       "1  1.0    0        S   8.6625      0           699       3    1       0.0\n",
       "2  1.0    0        S  24.1500      1          1267       3    0       0.0\n",
       "3  2.0    4        S  23.0000      3           449       2    0       1.0\n",
       "4  1.0    0        S  13.0000      0           576       2    1       0.0"
      ]
     },
     "execution_count": 11,
     "metadata": {},
     "output_type": "execute_result"
    }
   ],
   "source": [
    "data.head()"
   ]
  },
  {
   "cell_type": "markdown",
   "metadata": {},
   "source": [
    "To generate a tree, calculate the entropy of your parent nodes.\n",
    "Tree 1 : gender - age - survival boolean\n",
    "Tree 2 : age - gender - survival boolean\n",
    "Tree 3 : fare - gender - age\n"
   ]
  },
  {
   "cell_type": "code",
   "execution_count": 12,
   "metadata": {},
   "outputs": [
    {
     "data": {
      "text/plain": [
       "1    843\n",
       "0    466\n",
       "Name: sex, dtype: int64"
      ]
     },
     "execution_count": 12,
     "metadata": {},
     "output_type": "execute_result"
    }
   ],
   "source": [
    "data['sex'].value_counts()\n",
    "#Female : 0, Male : 1"
   ]
  },
  {
   "cell_type": "code",
   "execution_count": 13,
   "metadata": {},
   "outputs": [
    {
     "data": {
      "text/plain": [
       "1    0.644003\n",
       "0    0.355997\n",
       "Name: sex, dtype: float64"
      ]
     },
     "execution_count": 13,
     "metadata": {},
     "output_type": "execute_result"
    }
   ],
   "source": [
    "data['sex'].value_counts(1)"
   ]
  },
  {
   "cell_type": "code",
   "execution_count": 14,
   "metadata": {},
   "outputs": [],
   "source": [
    "male_ratio = 0.644003\n",
    "female_ratio = 0.355997"
   ]
  },
  {
   "cell_type": "markdown",
   "metadata": {},
   "source": [
    "1. Calculate the entropy of the target:\n",
    "\n",
    "    Calculate entropy of survival (1 - survived, 0 - did not survive, -1 - NA)"
   ]
  },
  {
   "cell_type": "code",
   "execution_count": 15,
   "metadata": {},
   "outputs": [
    {
     "name": "stdout",
     "output_type": "stream",
     "text": [
      " 0.0    1.582043\n",
      "-1.0    1.590439\n",
      " 1.0    1.480758\n",
      "Name: survived, dtype: float64\n"
     ]
    }
   ],
   "source": [
    "e_node = 0  #Initialize Entropy\n",
    "values = data['survived'].value_counts() #Unique objects - -1,0,+1\n",
    "for value in values:\n",
    "    fraction = data['survived'].value_counts()/len(data['survived'])  \n",
    "    e_node += -fraction*np.log2(fraction)\n",
    "print(e_node)"
   ]
  },
  {
   "cell_type": "code",
   "execution_count": 16,
   "metadata": {},
   "outputs": [
    {
     "name": "stdout",
     "output_type": "stream",
     "text": [
      " 0.0    537\n",
      "-1.0    459\n",
      " 1.0    313\n",
      "Name: survived, dtype: int64\n",
      "Total passengers\n",
      "1309\n"
     ]
    }
   ],
   "source": [
    "print(data['survived'].value_counts())\n",
    "print(\"Total passengers\")\n",
    "print(len(data['survived']))"
   ]
  },
  {
   "cell_type": "code",
   "execution_count": 17,
   "metadata": {},
   "outputs": [
    {
     "data": {
      "text/plain": [
       " 0.0    0.410237\n",
       "-1.0    0.350649\n",
       " 1.0    0.239114\n",
       "Name: survived, dtype: float64"
      ]
     },
     "execution_count": 17,
     "metadata": {},
     "output_type": "execute_result"
    }
   ],
   "source": [
    "data['survived'].value_counts(1)"
   ]
  },
  {
   "cell_type": "code",
   "execution_count": 18,
   "metadata": {},
   "outputs": [
    {
     "name": "stdout",
     "output_type": "stream",
     "text": [
      "1.5510801153857858\n"
     ]
    }
   ],
   "source": [
    "died =  0.410237\n",
    "na_survived =  0.350649\n",
    "lived = 0.239114\n",
    "e_survived = -(died*log(died)) -(na_survived*log(na_survived)) -(lived*log(lived))\n",
    "print(e_survived)"
   ]
  },
  {
   "cell_type": "code",
   "execution_count": 19,
   "metadata": {},
   "outputs": [
    {
     "name": "stdout",
     "output_type": "stream",
     "text": [
      "1.0209337235439513\n"
     ]
    }
   ],
   "source": [
    "e_survived_no_na = -(died*log(died))-(lived*log(lived))\n",
    "print(e_survived_no_na)"
   ]
  },
  {
   "cell_type": "markdown",
   "metadata": {},
   "source": [
    "Entropy having value > 1 just shows a very high level of disorder. This implies that we can't accurately predict the state of the passenger and that the result of the execution of this model will be more informative. "
   ]
  },
  {
   "cell_type": "code",
   "execution_count": 20,
   "metadata": {},
   "outputs": [
    {
     "name": "stdout",
     "output_type": "stream",
     "text": [
      "1.285470477986138\n"
     ]
    }
   ],
   "source": [
    "# i being the information that number of dead gives us\n",
    "# As the probability of a passenger not surviving is death_ratio < 1, these numbers give us high information\n",
    "i = -log(died)\n",
    "print(i)"
   ]
  },
  {
   "cell_type": "markdown",
   "metadata": {},
   "source": [
    "As part of our first tree, we'll take Age as the parent node, split it to its different subgroups, which will be further split to sex, culminating in the survival of the passenger."
   ]
  },
  {
   "cell_type": "markdown",
   "metadata": {},
   "source": [
    "1. Get entropy of the parent as a whole\n",
    "2. Get conditional entropy of subroups within parent\n",
    "3. Find information gain by subtracting the weighted average of the conditional entropies from the parent's entropy\n",
    "\n",
    "Example:\n",
    "1. E(Age)\n",
    "2. E(Age | Young), E(Age | Adult), E(Age | Old)\n",
    "3. IG = E(Age) - E(weighted avg. conditional entropy)"
   ]
  },
  {
   "cell_type": "code",
   "execution_count": 21,
   "metadata": {},
   "outputs": [
    {
     "data": {
      "text/plain": [
       "1.0    0.813598\n",
       "0.0    0.102368\n",
       "2.0    0.084034\n",
       "Name: age, dtype: float64"
      ]
     },
     "execution_count": 21,
     "metadata": {},
     "output_type": "execute_result"
    }
   ],
   "source": [
    "data['age'].value_counts(1)"
   ]
  },
  {
   "cell_type": "code",
   "execution_count": 22,
   "metadata": {},
   "outputs": [
    {
     "name": "stdout",
     "output_type": "stream",
     "text": [
      "0.87898284978781\n"
     ]
    }
   ],
   "source": [
    "e_age = -(0.813598*log(0.813598)) -(0.102368*log(0.102368)) - (0.084034*log(0.084034))\n",
    "print(e_age)"
   ]
  },
  {
   "cell_type": "code",
   "execution_count": 23,
   "metadata": {},
   "outputs": [
    {
     "name": "stdout",
     "output_type": "stream",
     "text": [
      "1.0    0.726409\n",
      "0.0    1.009809\n",
      "2.0    0.900728\n",
      "Name: age, dtype: float64\n"
     ]
    }
   ],
   "source": [
    "e_age = 0  #Initialize Entropy\n",
    "age_values = data['age'].value_counts() #Unique objects - -1,0,+1\n",
    "for value in age_values:\n",
    "    fraction = data['age'].value_counts()/len(data['age'])  \n",
    "    e_age += -fraction*np.log2(fraction)\n",
    "print(e_age)"
   ]
  },
  {
   "cell_type": "code",
   "execution_count": 24,
   "metadata": {},
   "outputs": [
    {
     "data": {
      "text/plain": [
       "64"
      ]
     },
     "execution_count": 24,
     "metadata": {},
     "output_type": "execute_result"
    }
   ],
   "source": [
    "#Conditional entropy\n",
    "#Young (0)| females(0) \n",
    "len(data.loc[(data['age'] == 0) & (data['sex'] == 0)])"
   ]
  },
  {
   "cell_type": "code",
   "execution_count": 25,
   "metadata": {},
   "outputs": [
    {
     "data": {
      "text/plain": [
       "70"
      ]
     },
     "execution_count": 25,
     "metadata": {},
     "output_type": "execute_result"
    }
   ],
   "source": [
    "#Young | Male\n",
    "len(data.loc[(data['age'] == 0) & (data['sex'] == 1)])"
   ]
  },
  {
   "cell_type": "code",
   "execution_count": 26,
   "metadata": {},
   "outputs": [],
   "source": [
    "num_young = len(data.loc[data['age'] == 0])\n",
    "num_adult = len(data.loc[data['age'] == 1])\n",
    "num_old = len(data.loc[data['age'] == 2])"
   ]
  },
  {
   "cell_type": "code",
   "execution_count": 27,
   "metadata": {},
   "outputs": [
    {
     "name": "stdout",
     "output_type": "stream",
     "text": [
      "0.08403361344537816\n"
     ]
    }
   ],
   "source": [
    "print(num_old/total_pass)"
   ]
  },
  {
   "cell_type": "code",
   "execution_count": 28,
   "metadata": {},
   "outputs": [
    {
     "name": "stdout",
     "output_type": "stream",
     "text": [
      "0.9985532860835362\n"
     ]
    }
   ],
   "source": [
    "#Conditional entropy of Young(0) subgroup\n",
    "#e_young = females/total young , males/total young\n",
    "young_f = len(data.loc[(data['age'] == 0) & (data['sex'] == 0)])/num_young\n",
    "young_m = len(data.loc[(data['age'] == 0) & (data['sex'] == 1)]) /num_young\n",
    "e_young = -(young_f*log(young_f)) - (young_m*log(young_m))\n",
    "print(e_young)"
   ]
  },
  {
   "cell_type": "code",
   "execution_count": 29,
   "metadata": {},
   "outputs": [
    {
     "name": "stdout",
     "output_type": "stream",
     "text": [
      "0.9265156836824285\n"
     ]
    }
   ],
   "source": [
    "#Conditional entropy of Adult (1) subgroup\n",
    "adult_f = len(data.loc[(data['age'] == 1) & (data['sex'] == 0)]) / num_adult\n",
    "adult_m = len(data.loc[(data['age'] == 1) & (data['sex'] == 1)]) / num_adult\n",
    "e_adult = -(adult_f*log(adult_f)) -(adult_m*log(adult_m))\n",
    "print(e_adult)"
   ]
  },
  {
   "cell_type": "code",
   "execution_count": 30,
   "metadata": {},
   "outputs": [
    {
     "name": "stdout",
     "output_type": "stream",
     "text": [
      "0.9299429352091801\n"
     ]
    }
   ],
   "source": [
    "#Conditional entropy of Old (2) subgroup\n",
    "old_f = len(data.loc[(data['age'] == 2) & (data['sex'] == 0)]) / num_old\n",
    "old_m = len(data.loc[(data['age'] == 2) & (data['sex'] == 1)]) / num_old\n",
    "e_old = -(old_f*log(old_f)) -(old_m*log(old_m))\n",
    "print(e_old)"
   ]
  },
  {
   "cell_type": "code",
   "execution_count": 36,
   "metadata": {},
   "outputs": [
    {
     "name": "stdout",
     "output_type": "stream",
     "text": [
      "0.8789822416819767\n"
     ]
    }
   ],
   "source": [
    "#Weighted avg entropy of age subgroups = total young / total passengers, total adult/ tot pass, total old/tot pass\n",
    "ratio_y = num_young/total_pass\n",
    "ratio_a = num_adult/total_pass\n",
    "ratio_o = num_old/total_pass\n",
    "e_age = -(ratio_y*log(ratio_y)) -(ratio_a*log(ratio_a))-(ratio_o*log(ratio_o))\n",
    "print(e_age)"
   ]
  },
  {
   "cell_type": "code",
   "execution_count": 37,
   "metadata": {},
   "outputs": [
    {
     "name": "stdout",
     "output_type": "stream",
     "text": [
      "0.9341780491443774\n"
     ]
    }
   ],
   "source": [
    "e_wt_age = (ratio_y*e_young) + (ratio_a*e_adult) + (ratio_o*e_old)\n",
    "print(e_wt_age)"
   ]
  },
  {
   "cell_type": "code",
   "execution_count": 38,
   "metadata": {},
   "outputs": [
    {
     "name": "stdout",
     "output_type": "stream",
     "text": [
      "-0.055195807462400714\n"
     ]
    }
   ],
   "source": [
    "info_gain_age = e_age - e_wt_age\n",
    "print(info_gain_age)"
   ]
  }
 ],
 "metadata": {
  "kernelspec": {
   "display_name": "Python 3",
   "language": "python",
   "name": "python3"
  },
  "language_info": {
   "codemirror_mode": {
    "name": "ipython",
    "version": 3
   },
   "file_extension": ".py",
   "mimetype": "text/x-python",
   "name": "python",
   "nbconvert_exporter": "python",
   "pygments_lexer": "ipython3",
   "version": "3.6.5"
  }
 },
 "nbformat": 4,
 "nbformat_minor": 2
}

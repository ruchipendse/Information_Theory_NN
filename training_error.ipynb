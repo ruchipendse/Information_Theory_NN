{
 "cells": [
  {
   "cell_type": "code",
   "execution_count": 120,
   "metadata": {},
   "outputs": [
    {
     "data": {
      "image/png": "[encoded data removed]",
      "text/plain": [
       "<Figure size 432x288 with 1 Axes>"
      ]
     },
     "metadata": {
      "needs_background": "light"
     },
     "output_type": "display_data"
    }
   ],
   "source": [
    "from sklearn.datasets import make_classification\n",
    "from matplotlib import pyplot\n",
    "import pandas as pd\n",
    "from pandas import DataFrame\n",
    "# 50-50 classes\n",
    "X, y = make_classification(n_samples = 1000, n_features=2, n_redundant=0, n_informative=2, random_state = 9)\n",
    "# scatter plot, dots colored by class value\n",
    "d = {'x1':X[:,0], 'x2':X[:,1], 'y':y}\n",
    "df = DataFrame(data = d)\n",
    "colors = {0:'red', 1:'blue'}\n",
    "fig, ax = pyplot.subplots()\n",
    "grouped = df.groupby('y')\n",
    "for key, group in grouped:\n",
    "    group.plot(ax=ax, kind='scatter', x='x1', y='x2', label=key, color=colors[key])\n",
    "pyplot.show()"
   ]
  },
  {
   "cell_type": "code",
   "execution_count": 121,
   "metadata": {},
   "outputs": [],
   "source": [
    "df1 = df[df['x1']>0]\n",
    "df2 = df[df['x1']<=0]"
   ]
  },
  {
   "cell_type": "code",
   "execution_count": 122,
   "metadata": {},
   "outputs": [
    {
     "data": {
      "text/plain": [
       "(           x1        x2  y\n",
       " 3    0.342814  0.896360  1\n",
       " 5    1.212223 -0.435678  0\n",
       " 8    0.082034 -0.953846  1\n",
       " 9    2.324053 -0.866932  1\n",
       " 10   0.821557  1.074487  1\n",
       " ..        ...       ... ..\n",
       " 990  0.958435  0.692390  1\n",
       " 992  0.801556  1.670621  1\n",
       " 993  0.549326  1.224247  0\n",
       " 995  3.284570  0.872215  1\n",
       " 996  1.415947  0.138956  1\n",
       " \n",
       " [505 rows x 3 columns],            x1        x2  y\n",
       " 0   -1.292133  2.376772  0\n",
       " 1   -1.971700 -0.142807  0\n",
       " 2   -0.749450  0.741596  0\n",
       " 4   -0.495102 -0.540285  0\n",
       " 6   -0.933970  1.454381  0\n",
       " ..        ...       ... ..\n",
       " 991 -0.958182  1.154265  0\n",
       " 994 -0.227413  0.681968  0\n",
       " 997 -1.320277  1.927374  1\n",
       " 998 -0.009223 -2.086840  1\n",
       " 999 -2.130635 -1.531985  0\n",
       " \n",
       " [495 rows x 3 columns])"
      ]
     },
     "execution_count": 122,
     "metadata": {},
     "output_type": "execute_result"
    }
   ],
   "source": [
    "df1, df2"
   ]
  },
  {
   "cell_type": "code",
   "execution_count": 123,
   "metadata": {},
   "outputs": [],
   "source": [
    "df3 = df1[df1['x2']>0]\n",
    "df4 = df1[df1['x2']<=0]"
   ]
  },
  {
   "cell_type": "code",
   "execution_count": 124,
   "metadata": {},
   "outputs": [
    {
     "data": {
      "text/plain": [
       "((258, 3), (247, 3))"
      ]
     },
     "execution_count": 124,
     "metadata": {},
     "output_type": "execute_result"
    }
   ],
   "source": [
    "df3.shape, df4.shape"
   ]
  },
  {
   "cell_type": "code",
   "execution_count": 125,
   "metadata": {},
   "outputs": [],
   "source": [
    "df5 = df2[df2['x2']>0]\n",
    "df6 = df2[df2['x2']<=0]"
   ]
  },
  {
   "cell_type": "code",
   "execution_count": 126,
   "metadata": {},
   "outputs": [
    {
     "data": {
      "text/plain": [
       "((257, 3), (238, 3))"
      ]
     },
     "execution_count": 126,
     "metadata": {},
     "output_type": "execute_result"
    }
   ],
   "source": [
    "df5.shape, df6.shape"
   ]
  },
  {
   "cell_type": "code",
   "execution_count": 141,
   "metadata": {},
   "outputs": [
    {
     "name": "stdout",
     "output_type": "stream",
     "text": [
      "Probability of getting correct value in quadrant 1 : 0.18992248062015504\n"
     ]
    }
   ],
   "source": [
    "#quadrant 1\n",
    "q1 = df3['y']\n",
    "p1 = len(df3[df3['y'] == 0])/len(q1)\n",
    "print(\"Probability of getting correct value in quadrant 1 :\", p1)"
   ]
  },
  {
   "cell_type": "code",
   "execution_count": 142,
   "metadata": {},
   "outputs": [
    {
     "name": "stdout",
     "output_type": "stream",
     "text": [
      "Probability of getting correct value in quadrant 2 : 0.12550607287449392\n"
     ]
    }
   ],
   "source": [
    "#quadrant 2\n",
    "q2 = df4['y']\n",
    "p2 = len(df4[df4['y'] == 0])/len(q2)\n",
    "print(\"Probability of getting correct value in quadrant 2 :\", p2)"
   ]
  },
  {
   "cell_type": "code",
   "execution_count": 143,
   "metadata": {},
   "outputs": [
    {
     "name": "stdout",
     "output_type": "stream",
     "text": [
      "Probability of getting correct value in quadrant 3 : 0.8287937743190662\n"
     ]
    }
   ],
   "source": [
    "#quadrant 3\n",
    "q3 = df5['y']\n",
    "p3 = len(df5[df5['y'] == 0])/len(q3)\n",
    "print(\"Probability of getting correct value in quadrant 3 :\", p3)"
   ]
  },
  {
   "cell_type": "code",
   "execution_count": 144,
   "metadata": {},
   "outputs": [
    {
     "name": "stdout",
     "output_type": "stream",
     "text": [
      "Probability of getting correct value in quadrant 4 : 0.8697478991596639\n"
     ]
    }
   ],
   "source": [
    "#quadrant 4\n",
    "q4 = df6['y']\n",
    "p4 = len(df6[df6['y'] == 0])/len(q4)\n",
    "print(\"Probability of getting correct value in quadrant 4 :\", p4)"
   ]
  },
  {
   "cell_type": "code",
   "execution_count": 140,
   "metadata": {},
   "outputs": [
    {
     "data": {
      "text/html": [
       "<div>\n",
       "<style scoped>\n",
       "    .dataframe tbody tr th:only-of-type {\n",
       "        vertical-align: middle;\n",
       "    }\n",
       "\n",
       "    .dataframe tbody tr th {\n",
       "        vertical-align: top;\n",
       "    }\n",
       "\n",
       "    .dataframe thead th {\n",
       "        text-align: right;\n",
       "    }\n",
       "</style>\n",
       "<table border=\"1\" class=\"dataframe\">\n",
       "  <thead>\n",
       "    <tr style=\"text-align: right;\">\n",
       "      <th></th>\n",
       "      <th>x1</th>\n",
       "      <th>x2</th>\n",
       "      <th>y</th>\n",
       "    </tr>\n",
       "  </thead>\n",
       "  <tbody>\n",
       "    <tr>\n",
       "      <td>161</td>\n",
       "      <td>2.410790</td>\n",
       "      <td>0.824457</td>\n",
       "      <td>1</td>\n",
       "    </tr>\n",
       "    <tr>\n",
       "      <td>518</td>\n",
       "      <td>0.194778</td>\n",
       "      <td>-0.980109</td>\n",
       "      <td>1</td>\n",
       "    </tr>\n",
       "    <tr>\n",
       "      <td>583</td>\n",
       "      <td>1.970593</td>\n",
       "      <td>0.127456</td>\n",
       "      <td>1</td>\n",
       "    </tr>\n",
       "    <tr>\n",
       "      <td>891</td>\n",
       "      <td>0.033206</td>\n",
       "      <td>-1.684892</td>\n",
       "      <td>1</td>\n",
       "    </tr>\n",
       "    <tr>\n",
       "      <td>925</td>\n",
       "      <td>2.949697</td>\n",
       "      <td>-0.046060</td>\n",
       "      <td>1</td>\n",
       "    </tr>\n",
       "    <tr>\n",
       "      <td>...</td>\n",
       "      <td>...</td>\n",
       "      <td>...</td>\n",
       "      <td>...</td>\n",
       "    </tr>\n",
       "    <tr>\n",
       "      <td>869</td>\n",
       "      <td>1.170658</td>\n",
       "      <td>-0.248880</td>\n",
       "      <td>1</td>\n",
       "    </tr>\n",
       "    <tr>\n",
       "      <td>89</td>\n",
       "      <td>1.139264</td>\n",
       "      <td>0.932777</td>\n",
       "      <td>1</td>\n",
       "    </tr>\n",
       "    <tr>\n",
       "      <td>263</td>\n",
       "      <td>0.713687</td>\n",
       "      <td>-1.257967</td>\n",
       "      <td>1</td>\n",
       "    </tr>\n",
       "    <tr>\n",
       "      <td>737</td>\n",
       "      <td>2.410191</td>\n",
       "      <td>-0.603279</td>\n",
       "      <td>1</td>\n",
       "    </tr>\n",
       "    <tr>\n",
       "      <td>838</td>\n",
       "      <td>1.199941</td>\n",
       "      <td>1.184421</td>\n",
       "      <td>1</td>\n",
       "    </tr>\n",
       "  </tbody>\n",
       "</table>\n",
       "<p>125 rows × 3 columns</p>\n",
       "</div>"
      ],
      "text/plain": [
       "           x1        x2  y\n",
       "161  2.410790  0.824457  1\n",
       "518  0.194778 -0.980109  1\n",
       "583  1.970593  0.127456  1\n",
       "891  0.033206 -1.684892  1\n",
       "925  2.949697 -0.046060  1\n",
       "..        ...       ... ..\n",
       "869  1.170658 -0.248880  1\n",
       "89   1.139264  0.932777  1\n",
       "263  0.713687 -1.257967  1\n",
       "737  2.410191 -0.603279  1\n",
       "838  1.199941  1.184421  1\n",
       "\n",
       "[125 rows x 3 columns]"
      ]
     },
     "execution_count": 140,
     "metadata": {},
     "output_type": "execute_result"
    }
   ],
   "source": [
    "d = df[df['y'] == 1]\n",
    "dropset = d.sample(frac = 0.25, random_state = 0)\n",
    "dropset"
   ]
  },
  {
   "cell_type": "code",
   "execution_count": 145,
   "metadata": {},
   "outputs": [],
   "source": [
    "df_new = df.drop(dropset.index)"
   ]
  },
  {
   "cell_type": "code",
   "execution_count": 146,
   "metadata": {},
   "outputs": [
    {
     "data": {
      "text/html": [
       "<div>\n",
       "<style scoped>\n",
       "    .dataframe tbody tr th:only-of-type {\n",
       "        vertical-align: middle;\n",
       "    }\n",
       "\n",
       "    .dataframe tbody tr th {\n",
       "        vertical-align: top;\n",
       "    }\n",
       "\n",
       "    .dataframe thead th {\n",
       "        text-align: right;\n",
       "    }\n",
       "</style>\n",
       "<table border=\"1\" class=\"dataframe\">\n",
       "  <thead>\n",
       "    <tr style=\"text-align: right;\">\n",
       "      <th></th>\n",
       "      <th>x1</th>\n",
       "      <th>x2</th>\n",
       "      <th>y</th>\n",
       "    </tr>\n",
       "  </thead>\n",
       "  <tbody>\n",
       "    <tr>\n",
       "      <td>0</td>\n",
       "      <td>-1.292133</td>\n",
       "      <td>2.376772</td>\n",
       "      <td>0</td>\n",
       "    </tr>\n",
       "    <tr>\n",
       "      <td>1</td>\n",
       "      <td>-1.971700</td>\n",
       "      <td>-0.142807</td>\n",
       "      <td>0</td>\n",
       "    </tr>\n",
       "    <tr>\n",
       "      <td>2</td>\n",
       "      <td>-0.749450</td>\n",
       "      <td>0.741596</td>\n",
       "      <td>0</td>\n",
       "    </tr>\n",
       "    <tr>\n",
       "      <td>3</td>\n",
       "      <td>0.342814</td>\n",
       "      <td>0.896360</td>\n",
       "      <td>1</td>\n",
       "    </tr>\n",
       "    <tr>\n",
       "      <td>4</td>\n",
       "      <td>-0.495102</td>\n",
       "      <td>-0.540285</td>\n",
       "      <td>0</td>\n",
       "    </tr>\n",
       "    <tr>\n",
       "      <td>...</td>\n",
       "      <td>...</td>\n",
       "      <td>...</td>\n",
       "      <td>...</td>\n",
       "    </tr>\n",
       "    <tr>\n",
       "      <td>995</td>\n",
       "      <td>3.284570</td>\n",
       "      <td>0.872215</td>\n",
       "      <td>1</td>\n",
       "    </tr>\n",
       "    <tr>\n",
       "      <td>996</td>\n",
       "      <td>1.415947</td>\n",
       "      <td>0.138956</td>\n",
       "      <td>1</td>\n",
       "    </tr>\n",
       "    <tr>\n",
       "      <td>997</td>\n",
       "      <td>-1.320277</td>\n",
       "      <td>1.927374</td>\n",
       "      <td>1</td>\n",
       "    </tr>\n",
       "    <tr>\n",
       "      <td>998</td>\n",
       "      <td>-0.009223</td>\n",
       "      <td>-2.086840</td>\n",
       "      <td>1</td>\n",
       "    </tr>\n",
       "    <tr>\n",
       "      <td>999</td>\n",
       "      <td>-2.130635</td>\n",
       "      <td>-1.531985</td>\n",
       "      <td>0</td>\n",
       "    </tr>\n",
       "  </tbody>\n",
       "</table>\n",
       "<p>875 rows × 3 columns</p>\n",
       "</div>"
      ],
      "text/plain": [
       "           x1        x2  y\n",
       "0   -1.292133  2.376772  0\n",
       "1   -1.971700 -0.142807  0\n",
       "2   -0.749450  0.741596  0\n",
       "3    0.342814  0.896360  1\n",
       "4   -0.495102 -0.540285  0\n",
       "..        ...       ... ..\n",
       "995  3.284570  0.872215  1\n",
       "996  1.415947  0.138956  1\n",
       "997 -1.320277  1.927374  1\n",
       "998 -0.009223 -2.086840  1\n",
       "999 -2.130635 -1.531985  0\n",
       "\n",
       "[875 rows x 3 columns]"
      ]
     },
     "execution_count": 146,
     "metadata": {},
     "output_type": "execute_result"
    }
   ],
   "source": [
    "df_new"
   ]
  },
  {
   "cell_type": "code",
   "execution_count": 149,
   "metadata": {},
   "outputs": [
    {
     "data": {
      "image/png": "[encoded data removed]",
      "text/plain": [
       "<Figure size 432x288 with 1 Axes>"
      ]
     },
     "metadata": {
      "needs_background": "light"
     },
     "output_type": "display_data"
    }
   ],
   "source": [
    "fig, ax = pyplot.subplots()\n",
    "grouped = df_new.groupby('y')\n",
    "for key, group in grouped:\n",
    "    group.plot(ax=ax, kind='scatter', x='x1', y='x2', label=key, color=colors[key])\n",
    "pyplot.show()"
   ]
  },
  {
   "cell_type": "code",
   "execution_count": 152,
   "metadata": {},
   "outputs": [
    {
     "data": {
      "text/plain": [
       "375"
      ]
     },
     "execution_count": 152,
     "metadata": {},
     "output_type": "execute_result"
    }
   ],
   "source": [
    "len(df_new[df_new['y'] == 1])"
   ]
  },
  {
   "cell_type": "code",
   "execution_count": 153,
   "metadata": {},
   "outputs": [],
   "source": [
    "df1_new = df_new[df_new['x1']>0]\n",
    "df2_new = df_new[df_new['x1']<=0]"
   ]
  },
  {
   "cell_type": "code",
   "execution_count": 154,
   "metadata": {},
   "outputs": [],
   "source": [
    "df3_new = df1_new[df1_new['x2']>0]\n",
    "df4_new = df1_new[df1_new['x2']<=0]\n",
    "df5_new = df2_new[df2_new['x2']>0]\n",
    "df6_new = df2_new[df2_new['x2']<=0]"
   ]
  },
  {
   "cell_type": "code",
   "execution_count": 155,
   "metadata": {},
   "outputs": [
    {
     "data": {
      "text/plain": [
       "((200, 3), (201, 3), (249, 3), (225, 3))"
      ]
     },
     "execution_count": 155,
     "metadata": {},
     "output_type": "execute_result"
    }
   ],
   "source": [
    "df3_new.shape, df4_new.shape, df5_new.shape, df6_new.shape, "
   ]
  },
  {
   "cell_type": "code",
   "execution_count": 157,
   "metadata": {},
   "outputs": [
    {
     "name": "stdout",
     "output_type": "stream",
     "text": [
      "Probability of getting correct value in quadrant 1 : 0.245\n"
     ]
    }
   ],
   "source": [
    "#quadrant 1\n",
    "q1 = df3_new['y']\n",
    "p1 = len(df3_new[df3_new['y'] == 0])/len(q1)\n",
    "print(\"Probability of getting correct value in quadrant 1 :\", p1)"
   ]
  },
  {
   "cell_type": "code",
   "execution_count": 158,
   "metadata": {},
   "outputs": [
    {
     "name": "stdout",
     "output_type": "stream",
     "text": [
      "Probability of getting correct value in quadrant 2 : 0.15422885572139303\n"
     ]
    }
   ],
   "source": [
    "#quadrant 2\n",
    "q2 = df4_new['y']\n",
    "p2 = len(df4_new[df4_new['y'] == 0])/len(q2)\n",
    "print(\"Probability of getting correct value in quadrant 2 :\", p2)"
   ]
  },
  {
   "cell_type": "code",
   "execution_count": 159,
   "metadata": {},
   "outputs": [
    {
     "name": "stdout",
     "output_type": "stream",
     "text": [
      "Probability of getting correct value in quadrant 3 : 0.8554216867469879\n"
     ]
    }
   ],
   "source": [
    "#quadrant 3\n",
    "q3 = df5_new['y']\n",
    "p3 = len(df5_new[df5_new['y'] == 0])/len(q3)\n",
    "print(\"Probability of getting correct value in quadrant 3 :\", p3)"
   ]
  },
  {
   "cell_type": "code",
   "execution_count": 160,
   "metadata": {},
   "outputs": [
    {
     "name": "stdout",
     "output_type": "stream",
     "text": [
      "Probability of getting correct value in quadrant 4 : 0.92\n"
     ]
    }
   ],
   "source": [
    "#quadrant 4\n",
    "q4 = df6_new['y']\n",
    "p4 = len(df6_new[df6_new['y'] == 0])/len(q4)\n",
    "print(\"Probability of getting correct value in quadrant 4 :\", p4)"
   ]
  },
  {
   "cell_type": "code",
   "execution_count": null,
   "metadata": {},
   "outputs": [],
   "source": []
  }
 ],
 "metadata": {
  "kernelspec": {
   "display_name": "Python 3",
   "language": "python",
   "name": "python3"
  },
  "language_info": {
   "codemirror_mode": {
    "name": "ipython",
    "version": 3
   },
   "file_extension": ".py",
   "mimetype": "text/x-python",
   "name": "python",
   "nbconvert_exporter": "python",
   "pygments_lexer": "ipython3",
   "version": "3.7.4"
  }
 },
 "nbformat": 4,
 "nbformat_minor": 2
}

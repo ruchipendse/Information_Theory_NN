{
 "cells": [
  {
   "cell_type": "code",
   "execution_count": 52,
   "metadata": {},
   "outputs": [
    {
     "data": {
      "image/png": "[encoded data removed]",
      "text/plain": [
       "<Figure size 432x288 with 1 Axes>"
      ]
     },
     "metadata": {},
     "output_type": "display_data"
    }
   ],
   "source": [
    "from sklearn.datasets import make_classification\n",
    "from matplotlib import pyplot\n",
    "import pandas as pd\n",
    "from pandas import DataFrame\n",
    "\n",
    "X, y = make_classification(n_samples = 100, n_features=2, n_redundant=0, n_informative=2, random_state = 0, weights=[0.7, 0.3])\n",
    "# scatter plot, dots colored by class value\n",
    "d = {'x1':X[:,0], 'x2':X[:,1], 'y':y}\n",
    "df = DataFrame(data = d)\n",
    "colors = {0:'red', 1:'blue'}\n",
    "fig, ax = pyplot.subplots()\n",
    "grouped = df.groupby('y')\n",
    "for key, group in grouped:\n",
    "    group.plot(ax=ax, kind='scatter', x='x1', y='x2', label=key, color=colors[key])\n",
    "pyplot.show()"
   ]
  },
  {
   "cell_type": "code",
   "execution_count": null,
   "metadata": {},
   "outputs": [],
   "source": [
    ">>> def divide(x, y):\n",
    "...     try:\n",
    "...         result = x / y\n",
    "...     except ZeroDivisionError as err:\n",
    "    \n",
    "...         print(\"division by zero!\")\n",
    "...     else:\n",
    "...         print(\"result is\", result)\n",
    "...     finally:\n",
    "...         print(\"executing finally clause\")"
   ]
  },
  {
   "cell_type": "code",
   "execution_count": 68,
   "metadata": {},
   "outputs": [],
   "source": [
    "def training_error(data, split, feature):\n",
    "    d1 = data[data[feature] > split]\n",
    "    d2 = data[data[feature] <= split]\n",
    "    try: \n",
    "        v1 = len(d1[d1['y'] == 0])/len(d1['y'])\n",
    "    except ZeroDivisionError as err:\n",
    "        print('Change split', split ,err)\n",
    "    else: \n",
    "        try:\n",
    "            v2 = len(d2[d2['y'] == 0])/len(d2['y'])\n",
    "        except ZeroDivisionError as err:\n",
    "            print('Change split', split ,err)\n",
    "        else:\n",
    "\n",
    "            if v1>0.5:\n",
    "                a = (1-v1)*0.3\n",
    "            else:\n",
    "                a = v1*0.7\n",
    "            if v2>0.5:\n",
    "                b = (1-v2)*0.3\n",
    "            else:\n",
    "                b = v2*0.7\n",
    "    return a+b\n",
    "\n",
    "    \n",
    "    "
   ]
  },
  {
   "cell_type": "code",
   "execution_count": 69,
   "metadata": {},
   "outputs": [
    {
     "data": {
      "text/plain": [
       "0.125"
      ]
     },
     "execution_count": 69,
     "metadata": {},
     "output_type": "execute_result"
    }
   ],
   "source": [
    "training_error(df, 0, 'x1')"
   ]
  },
  {
   "cell_type": "code",
   "execution_count": 70,
   "metadata": {},
   "outputs": [
    {
     "name": "stdout",
     "output_type": "stream",
     "text": [
      "[[0.0909090909090909]]\n",
      "[[0.0909090909090909], [0.09473684210526315]]\n",
      "[[0.0909090909090909], [0.09473684210526315], [0.1424175824175824]]\n",
      "[[0.0909090909090909], [0.09473684210526315], [0.1424175824175824], [0.125]]\n",
      "[[0.0909090909090909], [0.09473684210526315], [0.1424175824175824], [0.125], [0.05294117647058825]]\n",
      "[[0.0909090909090909], [0.09473684210526315], [0.1424175824175824], [0.125], [0.05294117647058825], [0.08125]]\n",
      "[[0.0909090909090909], [0.09473684210526315], [0.1424175824175824], [0.125], [0.05294117647058825], [0.08125], [0.0857142857142857]]\n"
     ]
    }
   ],
   "source": [
    "l_1 = []\n",
    "for i in range(-3, 4):\n",
    "    l_1.append([training_error(df, i, 'x1')])\n",
    "    print(l_1)"
   ]
  },
  {
   "cell_type": "code",
   "execution_count": 71,
   "metadata": {},
   "outputs": [
    {
     "data": {
      "text/plain": [
       "[<matplotlib.lines.Line2D at 0x1bd8e682780>]"
      ]
     },
     "execution_count": 71,
     "metadata": {},
     "output_type": "execute_result"
    },
    {
     "data": {
      "image/png": "[encoded data removed]",
      "text/plain": [
       "<Figure size 432x288 with 1 Axes>"
      ]
     },
     "metadata": {},
     "output_type": "display_data"
    }
   ],
   "source": [
    "pyplot.plot(range(-3, 4), l_1, color='green', linestyle='dashed', linewidth = 3, \n",
    "         marker='o', markerfacecolor='blue', markersize=12) \n"
   ]
  },
  {
   "cell_type": "code",
   "execution_count": 72,
   "metadata": {},
   "outputs": [
    {
     "data": {
      "text/plain": [
       "0.18017135862913097"
      ]
     },
     "execution_count": 72,
     "metadata": {},
     "output_type": "execute_result"
    }
   ],
   "source": [
    "training_error(df, 0, 'x2')"
   ]
  },
  {
   "cell_type": "code",
   "execution_count": 73,
   "metadata": {},
   "outputs": [
    {
     "name": "stdout",
     "output_type": "stream",
     "text": [
      "[[0.09183673469387756]]\n",
      "[[0.09183673469387756], [0.16630434782608694]]\n",
      "[[0.09183673469387756], [0.16630434782608694], [0.1722983257229833]]\n",
      "[[0.09183673469387756], [0.16630434782608694], [0.1722983257229833], [0.18017135862913097]]\n",
      "[[0.09183673469387756], [0.16630434782608694], [0.1722983257229833], [0.18017135862913097], [0.19539473684210523]]\n",
      "[[0.09183673469387756], [0.16630434782608694], [0.1722983257229833], [0.18017135862913097], [0.19539473684210523], [0.3652631578947368]]\n",
      "Change split 3 division by zero\n"
     ]
    },
    {
     "ename": "UnboundLocalError",
     "evalue": "local variable 'a' referenced before assignment",
     "output_type": "error",
     "traceback": [
      "\u001b[1;31m---------------------------------------------------------------------------\u001b[0m",
      "\u001b[1;31mUnboundLocalError\u001b[0m                         Traceback (most recent call last)",
      "\u001b[1;32m<ipython-input-73-7e903f49b78f>\u001b[0m in \u001b[0;36m<module>\u001b[1;34m()\u001b[0m\n\u001b[0;32m      1\u001b[0m \u001b[0ml_2\u001b[0m \u001b[1;33m=\u001b[0m \u001b[1;33m[\u001b[0m\u001b[1;33m]\u001b[0m\u001b[1;33m\u001b[0m\u001b[0m\n\u001b[0;32m      2\u001b[0m \u001b[1;32mfor\u001b[0m \u001b[0mi\u001b[0m \u001b[1;32min\u001b[0m \u001b[0mrange\u001b[0m\u001b[1;33m(\u001b[0m\u001b[1;33m-\u001b[0m\u001b[1;36m3\u001b[0m\u001b[1;33m,\u001b[0m \u001b[1;36m4\u001b[0m\u001b[1;33m)\u001b[0m\u001b[1;33m:\u001b[0m\u001b[1;33m\u001b[0m\u001b[0m\n\u001b[1;32m----> 3\u001b[1;33m     \u001b[0ml_2\u001b[0m\u001b[1;33m.\u001b[0m\u001b[0mappend\u001b[0m\u001b[1;33m(\u001b[0m\u001b[1;33m[\u001b[0m\u001b[0mtraining_error\u001b[0m\u001b[1;33m(\u001b[0m\u001b[0mdf\u001b[0m\u001b[1;33m,\u001b[0m \u001b[0mi\u001b[0m\u001b[1;33m,\u001b[0m \u001b[1;34m'x2'\u001b[0m\u001b[1;33m)\u001b[0m\u001b[1;33m]\u001b[0m\u001b[1;33m)\u001b[0m\u001b[1;33m\u001b[0m\u001b[0m\n\u001b[0m\u001b[0;32m      4\u001b[0m     \u001b[0mprint\u001b[0m\u001b[1;33m(\u001b[0m\u001b[0ml_2\u001b[0m\u001b[1;33m)\u001b[0m\u001b[1;33m\u001b[0m\u001b[0m\n",
      "\u001b[1;32m<ipython-input-68-ed8deb4f7a20>\u001b[0m in \u001b[0;36mtraining_error\u001b[1;34m(data, split, feature)\u001b[0m\n\u001b[0;32m     21\u001b[0m             \u001b[1;32melse\u001b[0m\u001b[1;33m:\u001b[0m\u001b[1;33m\u001b[0m\u001b[0m\n\u001b[0;32m     22\u001b[0m                 \u001b[0mb\u001b[0m \u001b[1;33m=\u001b[0m \u001b[0mv2\u001b[0m\u001b[1;33m*\u001b[0m\u001b[1;36m0.7\u001b[0m\u001b[1;33m\u001b[0m\u001b[0m\n\u001b[1;32m---> 23\u001b[1;33m     \u001b[1;32mreturn\u001b[0m \u001b[0ma\u001b[0m\u001b[1;33m+\u001b[0m\u001b[0mb\u001b[0m\u001b[1;33m\u001b[0m\u001b[0m\n\u001b[0m\u001b[0;32m     24\u001b[0m \u001b[1;33m\u001b[0m\u001b[0m\n\u001b[0;32m     25\u001b[0m \u001b[1;33m\u001b[0m\u001b[0m\n",
      "\u001b[1;31mUnboundLocalError\u001b[0m: local variable 'a' referenced before assignment"
     ]
    }
   ],
   "source": [
    "l_2 = []\n",
    "for i in range(-3, 4):\n",
    "    l_2.append([training_error(df, i, 'x2')])\n",
    "    print(l_2)\n"
   ]
  },
  {
   "cell_type": "code",
   "execution_count": 77,
   "metadata": {},
   "outputs": [
    {
     "data": {
      "text/plain": [
       "[<matplotlib.lines.Line2D at 0x1bd8e78b470>]"
      ]
     },
     "execution_count": 77,
     "metadata": {},
     "output_type": "execute_result"
    },
    {
     "data": {
      "image/png": "[encoded data removed]",
      "text/plain": [
       "<Figure size 432x288 with 1 Axes>"
      ]
     },
     "metadata": {},
     "output_type": "display_data"
    }
   ],
   "source": [
    "pyplot.plot(range(-3, 3), l_2, color='green', linestyle='dashed', linewidth = 3, \n",
    "         marker='o', markerfacecolor='blue', markersize=12) \n"
   ]
  },
  {
   "cell_type": "code",
   "execution_count": 75,
   "metadata": {},
   "outputs": [
    {
     "data": {
      "text/html": [
       "<div>\n",
       "<style scoped>\n",
       "    .dataframe tbody tr th:only-of-type {\n",
       "        vertical-align: middle;\n",
       "    }\n",
       "\n",
       "    .dataframe tbody tr th {\n",
       "        vertical-align: top;\n",
       "    }\n",
       "\n",
       "    .dataframe thead th {\n",
       "        text-align: right;\n",
       "    }\n",
       "</style>\n",
       "<table border=\"1\" class=\"dataframe\">\n",
       "  <thead>\n",
       "    <tr style=\"text-align: right;\">\n",
       "      <th></th>\n",
       "      <th>x1</th>\n",
       "      <th>x2</th>\n",
       "      <th>y</th>\n",
       "    </tr>\n",
       "  </thead>\n",
       "  <tbody>\n",
       "    <tr>\n",
       "      <th>5</th>\n",
       "      <td>3.862742</td>\n",
       "      <td>2.633259</td>\n",
       "      <td>1</td>\n",
       "    </tr>\n",
       "    <tr>\n",
       "      <th>9</th>\n",
       "      <td>-1.104953</td>\n",
       "      <td>2.045843</td>\n",
       "      <td>0</td>\n",
       "    </tr>\n",
       "    <tr>\n",
       "      <th>48</th>\n",
       "      <td>-0.008118</td>\n",
       "      <td>2.115647</td>\n",
       "      <td>1</td>\n",
       "    </tr>\n",
       "    <tr>\n",
       "      <th>63</th>\n",
       "      <td>1.044214</td>\n",
       "      <td>2.028990</td>\n",
       "      <td>1</td>\n",
       "    </tr>\n",
       "    <tr>\n",
       "      <th>69</th>\n",
       "      <td>-1.128453</td>\n",
       "      <td>2.783812</td>\n",
       "      <td>0</td>\n",
       "    </tr>\n",
       "  </tbody>\n",
       "</table>\n",
       "</div>"
      ],
      "text/plain": [
       "          x1        x2  y\n",
       "5   3.862742  2.633259  1\n",
       "9  -1.104953  2.045843  0\n",
       "48 -0.008118  2.115647  1\n",
       "63  1.044214  2.028990  1\n",
       "69 -1.128453  2.783812  0"
      ]
     },
     "execution_count": 75,
     "metadata": {},
     "output_type": "execute_result"
    }
   ],
   "source": [
    "d_new = df[df['x2'] > 2]\n",
    "d_new"
   ]
  },
  {
   "cell_type": "code",
   "execution_count": null,
   "metadata": {},
   "outputs": [],
   "source": []
  }
 ],
 "metadata": {
  "kernelspec": {
   "display_name": "Python 3",
   "language": "python",
   "name": "python3"
  },
  "language_info": {
   "codemirror_mode": {
    "name": "ipython",
    "version": 3
   },
   "file_extension": ".py",
   "mimetype": "text/x-python",
   "name": "python",
   "nbconvert_exporter": "python",
   "pygments_lexer": "ipython3",
   "version": "3.6.5"
  }
 },
 "nbformat": 4,
 "nbformat_minor": 2
}

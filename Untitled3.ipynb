{
 "cells": [
  {
   "cell_type": "code",
   "execution_count": 24,
   "metadata": {},
   "outputs": [
    {
     "name": "stdout",
     "output_type": "stream",
     "text": [
      "Requirement already satisfied: pyitlib in /home/purva/anaconda3/lib/python3.7/site-packages (0.2.2)\n",
      "Requirement already satisfied: scikit-learn>=0.16.0 in /home/purva/anaconda3/lib/python3.7/site-packages (from pyitlib) (0.21.3)\n",
      "Requirement already satisfied: scipy>=1.0.1 in /home/purva/anaconda3/lib/python3.7/site-packages (from pyitlib) (1.3.1)\n",
      "Requirement already satisfied: pandas>=0.20.2numpy>=1.9.2 in /home/purva/anaconda3/lib/python3.7/site-packages (from pyitlib) (0.25.1)\n",
      "Requirement already satisfied: future>=0.16.0 in /home/purva/anaconda3/lib/python3.7/site-packages (from pyitlib) (0.17.1)\n",
      "Requirement already satisfied: numpy>=1.11.0 in /home/purva/anaconda3/lib/python3.7/site-packages (from scikit-learn>=0.16.0->pyitlib) (1.17.2)\n",
      "Requirement already satisfied: joblib>=0.11 in /home/purva/anaconda3/lib/python3.7/site-packages (from scikit-learn>=0.16.0->pyitlib) (0.13.2)\n",
      "Requirement already satisfied: pytz>=2017.2 in /home/purva/anaconda3/lib/python3.7/site-packages (from pandas>=0.20.2numpy>=1.9.2->pyitlib) (2019.3)\n",
      "Requirement already satisfied: python-dateutil>=2.6.1 in /home/purva/anaconda3/lib/python3.7/site-packages (from pandas>=0.20.2numpy>=1.9.2->pyitlib) (2.8.0)\n",
      "Requirement already satisfied: six>=1.5 in /home/purva/anaconda3/lib/python3.7/site-packages (from python-dateutil>=2.6.1->pandas>=0.20.2numpy>=1.9.2->pyitlib) (1.12.0)\n"
     ]
    }
   ],
   "source": [
    "!pip install pyitlib\n",
    "import pandas as pd\n",
    "import numpy as np\n",
    "import matplotlib.pyplot as plt\n",
    "from pyitlib import discrete_random_variable as drv\n",
    "%matplotlib inline\n"
   ]
  },
  {
   "cell_type": "code",
   "execution_count": 25,
   "metadata": {},
   "outputs": [],
   "source": [
    "PlayTennis = pd.read_csv('./dataset/tennis.csv')"
   ]
  },
  {
   "cell_type": "code",
   "execution_count": 5,
   "metadata": {},
   "outputs": [
    {
     "data": {
      "text/html": [
       "<div>\n",
       "<style scoped>\n",
       "    .dataframe tbody tr th:only-of-type {\n",
       "        vertical-align: middle;\n",
       "    }\n",
       "\n",
       "    .dataframe tbody tr th {\n",
       "        vertical-align: top;\n",
       "    }\n",
       "\n",
       "    .dataframe thead th {\n",
       "        text-align: right;\n",
       "    }\n",
       "</style>\n",
       "<table border=\"1\" class=\"dataframe\">\n",
       "  <thead>\n",
       "    <tr style=\"text-align: right;\">\n",
       "      <th></th>\n",
       "      <th>outlook</th>\n",
       "      <th>temp</th>\n",
       "      <th>humidity</th>\n",
       "      <th>windy</th>\n",
       "      <th>play</th>\n",
       "    </tr>\n",
       "  </thead>\n",
       "  <tbody>\n",
       "    <tr>\n",
       "      <td>0</td>\n",
       "      <td>sunny</td>\n",
       "      <td>hot</td>\n",
       "      <td>high</td>\n",
       "      <td>False</td>\n",
       "      <td>no</td>\n",
       "    </tr>\n",
       "    <tr>\n",
       "      <td>1</td>\n",
       "      <td>sunny</td>\n",
       "      <td>hot</td>\n",
       "      <td>high</td>\n",
       "      <td>True</td>\n",
       "      <td>no</td>\n",
       "    </tr>\n",
       "    <tr>\n",
       "      <td>2</td>\n",
       "      <td>overcast</td>\n",
       "      <td>hot</td>\n",
       "      <td>high</td>\n",
       "      <td>False</td>\n",
       "      <td>yes</td>\n",
       "    </tr>\n",
       "    <tr>\n",
       "      <td>3</td>\n",
       "      <td>rainy</td>\n",
       "      <td>mild</td>\n",
       "      <td>high</td>\n",
       "      <td>False</td>\n",
       "      <td>yes</td>\n",
       "    </tr>\n",
       "    <tr>\n",
       "      <td>4</td>\n",
       "      <td>rainy</td>\n",
       "      <td>cool</td>\n",
       "      <td>normal</td>\n",
       "      <td>False</td>\n",
       "      <td>yes</td>\n",
       "    </tr>\n",
       "  </tbody>\n",
       "</table>\n",
       "</div>"
      ],
      "text/plain": [
       "    outlook  temp humidity  windy play\n",
       "0     sunny   hot     high  False   no\n",
       "1     sunny   hot     high   True   no\n",
       "2  overcast   hot     high  False  yes\n",
       "3     rainy  mild     high  False  yes\n",
       "4     rainy  cool   normal  False  yes"
      ]
     },
     "execution_count": 5,
     "metadata": {},
     "output_type": "execute_result"
    }
   ],
   "source": [
    "PlayTennis.head()"
   ]
  },
  {
   "cell_type": "code",
   "execution_count": 14,
   "metadata": {},
   "outputs": [],
   "source": [
    "from sklearn.model_selection import train_test_split\n",
    "from sklearn.tree import DecisionTreeClassifier\n",
    "from sklearn.metrics import accuracy_score\n",
    "from sklearn.preprocessing import LabelEncoder\n",
    "Le = LabelEncoder()\n",
    "\n",
    "PlayTennis['outlook'] = Le.fit_transform(PlayTennis['outlook'])\n",
    "PlayTennis['temp'] = Le.fit_transform(PlayTennis['temp'])\n",
    "PlayTennis['humidity'] = Le.fit_transform(PlayTennis['humidity'])\n",
    "PlayTennis['windy'] = Le.fit_transform(PlayTennis['windy'])\n",
    "PlayTennis['play'] = Le.fit_transform(PlayTennis['play'])"
   ]
  },
  {
   "cell_type": "code",
   "execution_count": 15,
   "metadata": {},
   "outputs": [],
   "source": [
    "y = PlayTennis['play']\n",
    "X = PlayTennis.drop(['play'],axis=1)"
   ]
  },
  {
   "cell_type": "code",
   "execution_count": 34,
   "metadata": {},
   "outputs": [],
   "source": [
    "def classify_and_accuracy(X, y):\n",
    "    X_train, X_test, y_train, y_test = train_test_split(X, y, test_size=0.20)\n",
    "    classifier = DecisionTreeClassifier()\n",
    "    classifier.fit(X_train, y_train)\n",
    "    y_pred = classifier.predict(X_test)\n",
    "    #print(\"Entropy\", drv.entropy(y))\n",
    "    #print(\"Accuracy \",accuracy_score(y_pred, y_test))\n",
    "    return(drv.entropy(y), accuracy_score(y_pred, y_test))"
   ]
  },
  {
   "cell_type": "code",
   "execution_count": 35,
   "metadata": {},
   "outputs": [
    {
     "data": {
      "text/plain": [
       "[(array(0.94028596), 0.6666666666666666),\n",
       " (array(0.94028596), 0.3333333333333333),\n",
       " (array(0.94028596), 0.0),\n",
       " (array(0.94028596), 0.6666666666666666),\n",
       " (array(0.94028596), 0.6666666666666666),\n",
       " (array(0.94028596), 0.6666666666666666),\n",
       " (array(0.94028596), 0.3333333333333333),\n",
       " (array(0.94028596), 0.3333333333333333),\n",
       " (array(0.94028596), 0.3333333333333333),\n",
       " (array(0.94028596), 1.0)]"
      ]
     },
     "execution_count": 35,
     "metadata": {},
     "output_type": "execute_result"
    }
   ],
   "source": [
    "l = []\n",
    "for i in range(10):\n",
    "    l.append(classify_and_accuracy(X,y))\n",
    "l"
   ]
  },
  {
   "cell_type": "code",
   "execution_count": null,
   "metadata": {},
   "outputs": [],
   "source": []
  }
 ],
 "metadata": {
  "kernelspec": {
   "display_name": "Python 3",
   "language": "python",
   "name": "python3"
  },
  "language_info": {
   "codemirror_mode": {
    "name": "ipython",
    "version": 3
   },
   "file_extension": ".py",
   "mimetype": "text/x-python",
   "name": "python",
   "nbconvert_exporter": "python",
   "pygments_lexer": "ipython3",
   "version": "3.7.4"
  }
 },
 "nbformat": 4,
 "nbformat_minor": 2
}

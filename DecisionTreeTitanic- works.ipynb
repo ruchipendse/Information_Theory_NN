{
 "cells": [
  {
   "cell_type": "code",
   "execution_count": 18,
   "metadata": {},
   "outputs": [],
   "source": [
    "#Importing required libraries\n",
    "import pandas as pd\n",
    "import numpy as np\n",
    "from sklearn.datasets import load_iris\n",
    "from sklearn.tree import DecisionTreeClassifier\n",
    "from sklearn.model_selection import train_test_split\n",
    "eps = np.finfo(float).eps\n",
    "from numpy import log2 as log"
   ]
  },
  {
   "cell_type": "code",
   "execution_count": 19,
   "metadata": {},
   "outputs": [],
   "source": [
    "train = pd.read_csv(r\"C:\\Users\\Ruchi\\Documents\\titanic_train.csv\")\n",
    "test = pd.read_csv(r\"C:\\Users\\Ruchi\\Documents\\titanic_test.csv\")"
   ]
  },
  {
   "cell_type": "code",
   "execution_count": 20,
   "metadata": {},
   "outputs": [],
   "source": [
    "org_train = train.copy()\n",
    "org_test = test.copy()"
   ]
  },
  {
   "cell_type": "code",
   "execution_count": 21,
   "metadata": {},
   "outputs": [],
   "source": [
    "data = train.append(test, sort = True)"
   ]
  },
  {
   "cell_type": "code",
   "execution_count": 22,
   "metadata": {},
   "outputs": [],
   "source": [
    "#data.info()\n",
    "total_pass = 1309\n",
    "#print(data)"
   ]
  },
  {
   "cell_type": "code",
   "execution_count": 23,
   "metadata": {},
   "outputs": [],
   "source": [
    "#data.head()"
   ]
  },
  {
   "cell_type": "code",
   "execution_count": 24,
   "metadata": {},
   "outputs": [],
   "source": [
    "''' # Clean NA data\n",
    "data.age.fillna(value = data.age.mean(), inplace = True)\n",
    "data.fare.fillna(value = data.fare.mean(), inplace = True)\n",
    "# Fill NA embarked values with the mode of embarked values\n",
    "data.embarked.fillna(value=(data.embarked.value_counts().idxmax()), inplace=True)\n",
    "data.survived.fillna(value=-1, inplace=True) \n",
    "data.boat.fillna(value = 0, inplace = True)\n",
    "'''\n",
    "data.dropna()\n",
    "data['sex'] =  data['sex'].map( {'female': 0, 'male': 1} ).astype(int)\n",
    "#Grouping ages\n",
    "data.loc[data['age'] <= 16, 'age'] = 0\n",
    "data.loc[(data['age'] > 16) & (data['age'] < 50), 'age'] = 1\n",
    "data.loc[data['age'] >= 50, 'age'] = 2 "
   ]
  },
  {
   "cell_type": "markdown",
   "metadata": {},
   "source": [
    "entropy_node = 0  #Initialize Entropy\n",
    "values = data.survived.unique()  #Unique objects - 'Yes', 'No'\n",
    "for value in values:\n",
    "    fraction = data.survived.value_counts()[value]/len(data.survived)  \n",
    "    entropy_node += -fraction*np.log2(fraction)"
   ]
  },
  {
   "cell_type": "code",
   "execution_count": 25,
   "metadata": {},
   "outputs": [
    {
     "name": "stdout",
     "output_type": "stream",
     "text": [
      "0.0    537\n",
      "1.0    313\n",
      "Name: survived, dtype: int64\n"
     ]
    }
   ],
   "source": [
    "values = data.survived.value_counts()\n",
    "print(values)"
   ]
  },
  {
   "cell_type": "code",
   "execution_count": 26,
   "metadata": {},
   "outputs": [
    {
     "data": {
      "text/plain": [
       "850"
      ]
     },
     "execution_count": 26,
     "metadata": {},
     "output_type": "execute_result"
    }
   ],
   "source": [
    "537+313"
   ]
  },
  {
   "cell_type": "code",
   "execution_count": 27,
   "metadata": {},
   "outputs": [],
   "source": [
    "dead = 537/850\n",
    "alive = 313/850"
   ]
  },
  {
   "cell_type": "code",
   "execution_count": 29,
   "metadata": {},
   "outputs": [
    {
     "name": "stdout",
     "output_type": "stream",
     "text": [
      "0.9493074611802688\n"
     ]
    }
   ],
   "source": [
    "e_surv = -(dead*log(dead)) - (alive*log(alive))\n",
    "print(e_surv)"
   ]
  },
  {
   "cell_type": "code",
   "execution_count": 33,
   "metadata": {},
   "outputs": [
    {
     "name": "stdout",
     "output_type": "stream",
     "text": [
      "1.0    0.766730\n",
      "0.0    0.128107\n",
      "2.0    0.105163\n",
      "Name: age, dtype: float64\n"
     ]
    }
   ],
   "source": [
    "values = data.age.value_counts(1)\n",
    "print(values)"
   ]
  },
  {
   "cell_type": "code",
   "execution_count": 44,
   "metadata": {},
   "outputs": [
    {
     "name": "stdout",
     "output_type": "stream",
     "text": [
      "1.0153077174540548\n"
     ]
    }
   ],
   "source": [
    "e_age = -(0.766730*log(0.766730)) -(0.128107*log( 0.128107)) -(0.105163*log(0.105163))\n",
    "print(e_age)"
   ]
  },
  {
   "cell_type": "code",
   "execution_count": 35,
   "metadata": {},
   "outputs": [
    {
     "name": "stdout",
     "output_type": "stream",
     "text": [
      "Total Young: 134\n",
      "Total Adult: 802\n",
      "Total Old: 110\n"
     ]
    }
   ],
   "source": [
    "num_young = len(data.loc[data['age'] == 0])\n",
    "num_adult = len(data.loc[data['age'] == 1])\n",
    "num_old = len(data.loc[data['age'] == 2])\n",
    "print('Total Young:', num_young)\n",
    "print('Total Adult:', num_adult)\n",
    "print('Total Old:', num_old)"
   ]
  },
  {
   "cell_type": "code",
   "execution_count": 36,
   "metadata": {},
   "outputs": [
    {
     "name": "stdout",
     "output_type": "stream",
     "text": [
      "0.9985532860835362\n"
     ]
    }
   ],
   "source": [
    "#Conditional entropy of Young(0) subgroup\n",
    "#e_young = females/total young , males/total young\n",
    "young_f = len(data.loc[(data['age'] == 0) & (data['sex'] == 0)])/num_young\n",
    "young_m = len(data.loc[(data['age'] == 0) & (data['sex'] == 1)]) /num_young\n",
    "e_young = -(young_f*log(young_f)) - (young_m*log(young_m))\n",
    "print(e_young)"
   ]
  },
  {
   "cell_type": "code",
   "execution_count": 37,
   "metadata": {},
   "outputs": [
    {
     "name": "stdout",
     "output_type": "stream",
     "text": [
      "0.9398319100995356\n"
     ]
    }
   ],
   "source": [
    "#Conditional entropy of Adult (1) subgroup\n",
    "adult_f = len(data.loc[(data['age'] == 1) & (data['sex'] == 0)]) / num_adult\n",
    "adult_m = len(data.loc[(data['age'] == 1) & (data['sex'] == 1)]) / num_adult\n",
    "e_adult = -(adult_f*log(adult_f)) -(adult_m*log(adult_m))\n",
    "print(e_adult)"
   ]
  },
  {
   "cell_type": "code",
   "execution_count": 38,
   "metadata": {},
   "outputs": [
    {
     "name": "stdout",
     "output_type": "stream",
     "text": [
      "0.9299429352091801\n"
     ]
    }
   ],
   "source": [
    "#Conditional entropy of Old (2) subgroup\n",
    "old_f = len(data.loc[(data['age'] == 2) & (data['sex'] == 0)]) / num_old\n",
    "old_m = len(data.loc[(data['age'] == 2) & (data['sex'] == 1)]) / num_old\n",
    "e_old = -(old_f*log(old_f)) -(old_m*log(old_m))\n",
    "print(e_old)"
   ]
  },
  {
   "cell_type": "code",
   "execution_count": 46,
   "metadata": {},
   "outputs": [
    {
     "name": "stdout",
     "output_type": "stream",
     "text": [
      "1.069883632917358\n"
     ]
    }
   ],
   "source": [
    "#Weighted avg entropy of age subgroups = total young / total passengers, total adult/ tot pass, total old/tot pass\n",
    "ratio_y = num_young/total_pass\n",
    "ratio_a = num_adult/total_pass\n",
    "ratio_o = num_old/total_pass\n",
    "e_age_all = -(ratio_y*log(ratio_y)) -(ratio_a*log(ratio_a))-(ratio_o*log(ratio_o))\n",
    "print(e_age_all)"
   ]
  },
  {
   "cell_type": "code",
   "execution_count": 47,
   "metadata": {},
   "outputs": [
    {
     "name": "stdout",
     "output_type": "stream",
     "text": [
      "0.7561841521069758\n"
     ]
    }
   ],
   "source": [
    "e_wt_age = (ratio_y*e_young) + (ratio_a*e_adult) + (ratio_o*e_old)\n",
    "print(e_wt_age)"
   ]
  },
  {
   "cell_type": "code",
   "execution_count": 48,
   "metadata": {},
   "outputs": [
    {
     "name": "stdout",
     "output_type": "stream",
     "text": [
      "1.0153077174540548\n"
     ]
    }
   ],
   "source": [
    "print(e_age)"
   ]
  },
  {
   "cell_type": "code",
   "execution_count": 49,
   "metadata": {},
   "outputs": [
    {
     "name": "stdout",
     "output_type": "stream",
     "text": [
      "0.25912356534707903\n"
     ]
    }
   ],
   "source": [
    "info_gain_age = e_age - e_wt_age\n",
    "print(info_gain_age)"
   ]
  },
  {
   "cell_type": "code",
   "execution_count": null,
   "metadata": {},
   "outputs": [],
   "source": []
  }
 ],
 "metadata": {
  "kernelspec": {
   "display_name": "Python 3",
   "language": "python",
   "name": "python3"
  },
  "language_info": {
   "codemirror_mode": {
    "name": "ipython",
    "version": 3
   },
   "file_extension": ".py",
   "mimetype": "text/x-python",
   "name": "python",
   "nbconvert_exporter": "python",
   "pygments_lexer": "ipython3",
   "version": "3.6.5"
  }
 },
 "nbformat": 4,
 "nbformat_minor": 2
}
